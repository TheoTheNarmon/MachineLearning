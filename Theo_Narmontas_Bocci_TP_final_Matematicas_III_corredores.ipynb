{
  "nbformat": 4,
  "nbformat_minor": 0,
  "metadata": {
    "colab": {
      "provenance": []
    },
    "kernelspec": {
      "name": "python3",
      "display_name": "Python 3"
    },
    "language_info": {
      "name": "python"
    }
  },
  "cells": [
    {
      "cell_type": "markdown",
      "source": [
        "**Importamos todo lo necesario**"
      ],
      "metadata": {
        "id": "M_LIGqH9wtAH"
      }
    },
    {
      "cell_type": "code",
      "execution_count": 29,
      "metadata": {
        "id": "ebni06MXwF-Y"
      },
      "outputs": [],
      "source": [
        "import pandas as pd\n",
        "import numpy as np\n",
        "import matplotlib.pyplot as plt\n",
        "from sklearn import metrics\n",
        "from sklearn.impute import SimpleImputer\n",
        "from sklearn.preprocessing import LabelEncoder\n",
        "from sklearn.preprocessing import OneHotEncoder\n",
        "from sklearn.preprocessing import StandardScaler\n",
        "from sklearn.compose import make_column_transformer\n",
        "from sklearn.model_selection import train_test_split\n",
        "from sklearn.linear_model import LinearRegression"
      ]
    },
    {
      "cell_type": "markdown",
      "source": [
        "**importamos el csv, para este elegi el de corredores**"
      ],
      "metadata": {
        "id": "Xb3CHOZ9ywVT"
      }
    },
    {
      "cell_type": "code",
      "source": [
        "df = pd.read_csv('corredores.csv')\n",
        "df"
      ],
      "metadata": {
        "id": "TDdrXNFBy19Q",
        "colab": {
          "base_uri": "https://localhost:8080/",
          "height": 441
        },
        "outputId": "d35dedbb-e0c6-417b-dc40-ca46535680b6"
      },
      "execution_count": 30,
      "outputs": [
        {
          "output_type": "execute_result",
          "data": {
            "text/plain": [
              "     Unnamed: 0  place  gender  age home        time Velocidad\n",
              "0          3475   3592    Male   52  GBR  217.483333   Regular\n",
              "1         13594  13853  Female   40   NY  272.550000   Regular\n",
              "2         12012  12256    Male   31  FRA  265.283333   Regular\n",
              "3         10236  10457  Female   33   MI  256.150000   Regular\n",
              "4          9476   9686    Male   33   NY  252.250000   Regular\n",
              "..          ...    ...     ...  ...  ...         ...       ...\n",
              "995       15972  16261    Male   61  FRA  285.883333   Regular\n",
              "996        1090   1131    Male   37  GBR  191.916667     Veloz\n",
              "997       16419  16713  Female   53  IRL  289.016667   Regular\n",
              "998       13977  14241  Female   21   NY  276.050000   Regular\n",
              "999        8527   8726    Male   55  GER  240.966667   Regular\n",
              "\n",
              "[1000 rows x 7 columns]"
            ],
            "text/html": [
              "\n",
              "  <div id=\"df-8b612f48-a340-46e4-817c-175cefce5622\">\n",
              "    <div class=\"colab-df-container\">\n",
              "      <div>\n",
              "<style scoped>\n",
              "    .dataframe tbody tr th:only-of-type {\n",
              "        vertical-align: middle;\n",
              "    }\n",
              "\n",
              "    .dataframe tbody tr th {\n",
              "        vertical-align: top;\n",
              "    }\n",
              "\n",
              "    .dataframe thead th {\n",
              "        text-align: right;\n",
              "    }\n",
              "</style>\n",
              "<table border=\"1\" class=\"dataframe\">\n",
              "  <thead>\n",
              "    <tr style=\"text-align: right;\">\n",
              "      <th></th>\n",
              "      <th>Unnamed: 0</th>\n",
              "      <th>place</th>\n",
              "      <th>gender</th>\n",
              "      <th>age</th>\n",
              "      <th>home</th>\n",
              "      <th>time</th>\n",
              "      <th>Velocidad</th>\n",
              "    </tr>\n",
              "  </thead>\n",
              "  <tbody>\n",
              "    <tr>\n",
              "      <th>0</th>\n",
              "      <td>3475</td>\n",
              "      <td>3592</td>\n",
              "      <td>Male</td>\n",
              "      <td>52</td>\n",
              "      <td>GBR</td>\n",
              "      <td>217.483333</td>\n",
              "      <td>Regular</td>\n",
              "    </tr>\n",
              "    <tr>\n",
              "      <th>1</th>\n",
              "      <td>13594</td>\n",
              "      <td>13853</td>\n",
              "      <td>Female</td>\n",
              "      <td>40</td>\n",
              "      <td>NY</td>\n",
              "      <td>272.550000</td>\n",
              "      <td>Regular</td>\n",
              "    </tr>\n",
              "    <tr>\n",
              "      <th>2</th>\n",
              "      <td>12012</td>\n",
              "      <td>12256</td>\n",
              "      <td>Male</td>\n",
              "      <td>31</td>\n",
              "      <td>FRA</td>\n",
              "      <td>265.283333</td>\n",
              "      <td>Regular</td>\n",
              "    </tr>\n",
              "    <tr>\n",
              "      <th>3</th>\n",
              "      <td>10236</td>\n",
              "      <td>10457</td>\n",
              "      <td>Female</td>\n",
              "      <td>33</td>\n",
              "      <td>MI</td>\n",
              "      <td>256.150000</td>\n",
              "      <td>Regular</td>\n",
              "    </tr>\n",
              "    <tr>\n",
              "      <th>4</th>\n",
              "      <td>9476</td>\n",
              "      <td>9686</td>\n",
              "      <td>Male</td>\n",
              "      <td>33</td>\n",
              "      <td>NY</td>\n",
              "      <td>252.250000</td>\n",
              "      <td>Regular</td>\n",
              "    </tr>\n",
              "    <tr>\n",
              "      <th>...</th>\n",
              "      <td>...</td>\n",
              "      <td>...</td>\n",
              "      <td>...</td>\n",
              "      <td>...</td>\n",
              "      <td>...</td>\n",
              "      <td>...</td>\n",
              "      <td>...</td>\n",
              "    </tr>\n",
              "    <tr>\n",
              "      <th>995</th>\n",
              "      <td>15972</td>\n",
              "      <td>16261</td>\n",
              "      <td>Male</td>\n",
              "      <td>61</td>\n",
              "      <td>FRA</td>\n",
              "      <td>285.883333</td>\n",
              "      <td>Regular</td>\n",
              "    </tr>\n",
              "    <tr>\n",
              "      <th>996</th>\n",
              "      <td>1090</td>\n",
              "      <td>1131</td>\n",
              "      <td>Male</td>\n",
              "      <td>37</td>\n",
              "      <td>GBR</td>\n",
              "      <td>191.916667</td>\n",
              "      <td>Veloz</td>\n",
              "    </tr>\n",
              "    <tr>\n",
              "      <th>997</th>\n",
              "      <td>16419</td>\n",
              "      <td>16713</td>\n",
              "      <td>Female</td>\n",
              "      <td>53</td>\n",
              "      <td>IRL</td>\n",
              "      <td>289.016667</td>\n",
              "      <td>Regular</td>\n",
              "    </tr>\n",
              "    <tr>\n",
              "      <th>998</th>\n",
              "      <td>13977</td>\n",
              "      <td>14241</td>\n",
              "      <td>Female</td>\n",
              "      <td>21</td>\n",
              "      <td>NY</td>\n",
              "      <td>276.050000</td>\n",
              "      <td>Regular</td>\n",
              "    </tr>\n",
              "    <tr>\n",
              "      <th>999</th>\n",
              "      <td>8527</td>\n",
              "      <td>8726</td>\n",
              "      <td>Male</td>\n",
              "      <td>55</td>\n",
              "      <td>GER</td>\n",
              "      <td>240.966667</td>\n",
              "      <td>Regular</td>\n",
              "    </tr>\n",
              "  </tbody>\n",
              "</table>\n",
              "<p>1000 rows × 7 columns</p>\n",
              "</div>\n",
              "      <button class=\"colab-df-convert\" onclick=\"convertToInteractive('df-8b612f48-a340-46e4-817c-175cefce5622')\"\n",
              "              title=\"Convert this dataframe to an interactive table.\"\n",
              "              style=\"display:none;\">\n",
              "        \n",
              "  <svg xmlns=\"http://www.w3.org/2000/svg\" height=\"24px\"viewBox=\"0 0 24 24\"\n",
              "       width=\"24px\">\n",
              "    <path d=\"M0 0h24v24H0V0z\" fill=\"none\"/>\n",
              "    <path d=\"M18.56 5.44l.94 2.06.94-2.06 2.06-.94-2.06-.94-.94-2.06-.94 2.06-2.06.94zm-11 1L8.5 8.5l.94-2.06 2.06-.94-2.06-.94L8.5 2.5l-.94 2.06-2.06.94zm10 10l.94 2.06.94-2.06 2.06-.94-2.06-.94-.94-2.06-.94 2.06-2.06.94z\"/><path d=\"M17.41 7.96l-1.37-1.37c-.4-.4-.92-.59-1.43-.59-.52 0-1.04.2-1.43.59L10.3 9.45l-7.72 7.72c-.78.78-.78 2.05 0 2.83L4 21.41c.39.39.9.59 1.41.59.51 0 1.02-.2 1.41-.59l7.78-7.78 2.81-2.81c.8-.78.8-2.07 0-2.86zM5.41 20L4 18.59l7.72-7.72 1.47 1.35L5.41 20z\"/>\n",
              "  </svg>\n",
              "      </button>\n",
              "      \n",
              "  <style>\n",
              "    .colab-df-container {\n",
              "      display:flex;\n",
              "      flex-wrap:wrap;\n",
              "      gap: 12px;\n",
              "    }\n",
              "\n",
              "    .colab-df-convert {\n",
              "      background-color: #E8F0FE;\n",
              "      border: none;\n",
              "      border-radius: 50%;\n",
              "      cursor: pointer;\n",
              "      display: none;\n",
              "      fill: #1967D2;\n",
              "      height: 32px;\n",
              "      padding: 0 0 0 0;\n",
              "      width: 32px;\n",
              "    }\n",
              "\n",
              "    .colab-df-convert:hover {\n",
              "      background-color: #E2EBFA;\n",
              "      box-shadow: 0px 1px 2px rgba(60, 64, 67, 0.3), 0px 1px 3px 1px rgba(60, 64, 67, 0.15);\n",
              "      fill: #174EA6;\n",
              "    }\n",
              "\n",
              "    [theme=dark] .colab-df-convert {\n",
              "      background-color: #3B4455;\n",
              "      fill: #D2E3FC;\n",
              "    }\n",
              "\n",
              "    [theme=dark] .colab-df-convert:hover {\n",
              "      background-color: #434B5C;\n",
              "      box-shadow: 0px 1px 3px 1px rgba(0, 0, 0, 0.15);\n",
              "      filter: drop-shadow(0px 1px 2px rgba(0, 0, 0, 0.3));\n",
              "      fill: #FFFFFF;\n",
              "    }\n",
              "  </style>\n",
              "\n",
              "      <script>\n",
              "        const buttonEl =\n",
              "          document.querySelector('#df-8b612f48-a340-46e4-817c-175cefce5622 button.colab-df-convert');\n",
              "        buttonEl.style.display =\n",
              "          google.colab.kernel.accessAllowed ? 'block' : 'none';\n",
              "\n",
              "        async function convertToInteractive(key) {\n",
              "          const element = document.querySelector('#df-8b612f48-a340-46e4-817c-175cefce5622');\n",
              "          const dataTable =\n",
              "            await google.colab.kernel.invokeFunction('convertToInteractive',\n",
              "                                                     [key], {});\n",
              "          if (!dataTable) return;\n",
              "\n",
              "          const docLinkHtml = 'Like what you see? Visit the ' +\n",
              "            '<a target=\"_blank\" href=https://colab.research.google.com/notebooks/data_table.ipynb>data table notebook</a>'\n",
              "            + ' to learn more about interactive tables.';\n",
              "          element.innerHTML = '';\n",
              "          dataTable['output_type'] = 'display_data';\n",
              "          await google.colab.output.renderOutput(dataTable, element);\n",
              "          const docLink = document.createElement('div');\n",
              "          docLink.innerHTML = docLinkHtml;\n",
              "          element.appendChild(docLink);\n",
              "        }\n",
              "      </script>\n",
              "    </div>\n",
              "  </div>\n",
              "  "
            ]
          },
          "metadata": {},
          "execution_count": 30
        }
      ]
    },
    {
      "cell_type": "markdown",
      "source": [
        "**Se elimina columna innecesaria**"
      ],
      "metadata": {
        "id": "lybjrgosWPRX"
      }
    },
    {
      "cell_type": "code",
      "source": [
        "df = df.drop(columns= 'Unnamed: 0')\n",
        "df"
      ],
      "metadata": {
        "colab": {
          "base_uri": "https://localhost:8080/",
          "height": 424
        },
        "id": "SL8FdcO2OovO",
        "outputId": "7514db21-1d6a-417e-81ed-98fa0dcb0321"
      },
      "execution_count": 31,
      "outputs": [
        {
          "output_type": "execute_result",
          "data": {
            "text/plain": [
              "     place  gender  age home        time Velocidad\n",
              "0     3592    Male   52  GBR  217.483333   Regular\n",
              "1    13853  Female   40   NY  272.550000   Regular\n",
              "2    12256    Male   31  FRA  265.283333   Regular\n",
              "3    10457  Female   33   MI  256.150000   Regular\n",
              "4     9686    Male   33   NY  252.250000   Regular\n",
              "..     ...     ...  ...  ...         ...       ...\n",
              "995  16261    Male   61  FRA  285.883333   Regular\n",
              "996   1131    Male   37  GBR  191.916667     Veloz\n",
              "997  16713  Female   53  IRL  289.016667   Regular\n",
              "998  14241  Female   21   NY  276.050000   Regular\n",
              "999   8726    Male   55  GER  240.966667   Regular\n",
              "\n",
              "[1000 rows x 6 columns]"
            ],
            "text/html": [
              "\n",
              "  <div id=\"df-611fe03e-123f-4231-8072-67cef8d11760\">\n",
              "    <div class=\"colab-df-container\">\n",
              "      <div>\n",
              "<style scoped>\n",
              "    .dataframe tbody tr th:only-of-type {\n",
              "        vertical-align: middle;\n",
              "    }\n",
              "\n",
              "    .dataframe tbody tr th {\n",
              "        vertical-align: top;\n",
              "    }\n",
              "\n",
              "    .dataframe thead th {\n",
              "        text-align: right;\n",
              "    }\n",
              "</style>\n",
              "<table border=\"1\" class=\"dataframe\">\n",
              "  <thead>\n",
              "    <tr style=\"text-align: right;\">\n",
              "      <th></th>\n",
              "      <th>place</th>\n",
              "      <th>gender</th>\n",
              "      <th>age</th>\n",
              "      <th>home</th>\n",
              "      <th>time</th>\n",
              "      <th>Velocidad</th>\n",
              "    </tr>\n",
              "  </thead>\n",
              "  <tbody>\n",
              "    <tr>\n",
              "      <th>0</th>\n",
              "      <td>3592</td>\n",
              "      <td>Male</td>\n",
              "      <td>52</td>\n",
              "      <td>GBR</td>\n",
              "      <td>217.483333</td>\n",
              "      <td>Regular</td>\n",
              "    </tr>\n",
              "    <tr>\n",
              "      <th>1</th>\n",
              "      <td>13853</td>\n",
              "      <td>Female</td>\n",
              "      <td>40</td>\n",
              "      <td>NY</td>\n",
              "      <td>272.550000</td>\n",
              "      <td>Regular</td>\n",
              "    </tr>\n",
              "    <tr>\n",
              "      <th>2</th>\n",
              "      <td>12256</td>\n",
              "      <td>Male</td>\n",
              "      <td>31</td>\n",
              "      <td>FRA</td>\n",
              "      <td>265.283333</td>\n",
              "      <td>Regular</td>\n",
              "    </tr>\n",
              "    <tr>\n",
              "      <th>3</th>\n",
              "      <td>10457</td>\n",
              "      <td>Female</td>\n",
              "      <td>33</td>\n",
              "      <td>MI</td>\n",
              "      <td>256.150000</td>\n",
              "      <td>Regular</td>\n",
              "    </tr>\n",
              "    <tr>\n",
              "      <th>4</th>\n",
              "      <td>9686</td>\n",
              "      <td>Male</td>\n",
              "      <td>33</td>\n",
              "      <td>NY</td>\n",
              "      <td>252.250000</td>\n",
              "      <td>Regular</td>\n",
              "    </tr>\n",
              "    <tr>\n",
              "      <th>...</th>\n",
              "      <td>...</td>\n",
              "      <td>...</td>\n",
              "      <td>...</td>\n",
              "      <td>...</td>\n",
              "      <td>...</td>\n",
              "      <td>...</td>\n",
              "    </tr>\n",
              "    <tr>\n",
              "      <th>995</th>\n",
              "      <td>16261</td>\n",
              "      <td>Male</td>\n",
              "      <td>61</td>\n",
              "      <td>FRA</td>\n",
              "      <td>285.883333</td>\n",
              "      <td>Regular</td>\n",
              "    </tr>\n",
              "    <tr>\n",
              "      <th>996</th>\n",
              "      <td>1131</td>\n",
              "      <td>Male</td>\n",
              "      <td>37</td>\n",
              "      <td>GBR</td>\n",
              "      <td>191.916667</td>\n",
              "      <td>Veloz</td>\n",
              "    </tr>\n",
              "    <tr>\n",
              "      <th>997</th>\n",
              "      <td>16713</td>\n",
              "      <td>Female</td>\n",
              "      <td>53</td>\n",
              "      <td>IRL</td>\n",
              "      <td>289.016667</td>\n",
              "      <td>Regular</td>\n",
              "    </tr>\n",
              "    <tr>\n",
              "      <th>998</th>\n",
              "      <td>14241</td>\n",
              "      <td>Female</td>\n",
              "      <td>21</td>\n",
              "      <td>NY</td>\n",
              "      <td>276.050000</td>\n",
              "      <td>Regular</td>\n",
              "    </tr>\n",
              "    <tr>\n",
              "      <th>999</th>\n",
              "      <td>8726</td>\n",
              "      <td>Male</td>\n",
              "      <td>55</td>\n",
              "      <td>GER</td>\n",
              "      <td>240.966667</td>\n",
              "      <td>Regular</td>\n",
              "    </tr>\n",
              "  </tbody>\n",
              "</table>\n",
              "<p>1000 rows × 6 columns</p>\n",
              "</div>\n",
              "      <button class=\"colab-df-convert\" onclick=\"convertToInteractive('df-611fe03e-123f-4231-8072-67cef8d11760')\"\n",
              "              title=\"Convert this dataframe to an interactive table.\"\n",
              "              style=\"display:none;\">\n",
              "        \n",
              "  <svg xmlns=\"http://www.w3.org/2000/svg\" height=\"24px\"viewBox=\"0 0 24 24\"\n",
              "       width=\"24px\">\n",
              "    <path d=\"M0 0h24v24H0V0z\" fill=\"none\"/>\n",
              "    <path d=\"M18.56 5.44l.94 2.06.94-2.06 2.06-.94-2.06-.94-.94-2.06-.94 2.06-2.06.94zm-11 1L8.5 8.5l.94-2.06 2.06-.94-2.06-.94L8.5 2.5l-.94 2.06-2.06.94zm10 10l.94 2.06.94-2.06 2.06-.94-2.06-.94-.94-2.06-.94 2.06-2.06.94z\"/><path d=\"M17.41 7.96l-1.37-1.37c-.4-.4-.92-.59-1.43-.59-.52 0-1.04.2-1.43.59L10.3 9.45l-7.72 7.72c-.78.78-.78 2.05 0 2.83L4 21.41c.39.39.9.59 1.41.59.51 0 1.02-.2 1.41-.59l7.78-7.78 2.81-2.81c.8-.78.8-2.07 0-2.86zM5.41 20L4 18.59l7.72-7.72 1.47 1.35L5.41 20z\"/>\n",
              "  </svg>\n",
              "      </button>\n",
              "      \n",
              "  <style>\n",
              "    .colab-df-container {\n",
              "      display:flex;\n",
              "      flex-wrap:wrap;\n",
              "      gap: 12px;\n",
              "    }\n",
              "\n",
              "    .colab-df-convert {\n",
              "      background-color: #E8F0FE;\n",
              "      border: none;\n",
              "      border-radius: 50%;\n",
              "      cursor: pointer;\n",
              "      display: none;\n",
              "      fill: #1967D2;\n",
              "      height: 32px;\n",
              "      padding: 0 0 0 0;\n",
              "      width: 32px;\n",
              "    }\n",
              "\n",
              "    .colab-df-convert:hover {\n",
              "      background-color: #E2EBFA;\n",
              "      box-shadow: 0px 1px 2px rgba(60, 64, 67, 0.3), 0px 1px 3px 1px rgba(60, 64, 67, 0.15);\n",
              "      fill: #174EA6;\n",
              "    }\n",
              "\n",
              "    [theme=dark] .colab-df-convert {\n",
              "      background-color: #3B4455;\n",
              "      fill: #D2E3FC;\n",
              "    }\n",
              "\n",
              "    [theme=dark] .colab-df-convert:hover {\n",
              "      background-color: #434B5C;\n",
              "      box-shadow: 0px 1px 3px 1px rgba(0, 0, 0, 0.15);\n",
              "      filter: drop-shadow(0px 1px 2px rgba(0, 0, 0, 0.3));\n",
              "      fill: #FFFFFF;\n",
              "    }\n",
              "  </style>\n",
              "\n",
              "      <script>\n",
              "        const buttonEl =\n",
              "          document.querySelector('#df-611fe03e-123f-4231-8072-67cef8d11760 button.colab-df-convert');\n",
              "        buttonEl.style.display =\n",
              "          google.colab.kernel.accessAllowed ? 'block' : 'none';\n",
              "\n",
              "        async function convertToInteractive(key) {\n",
              "          const element = document.querySelector('#df-611fe03e-123f-4231-8072-67cef8d11760');\n",
              "          const dataTable =\n",
              "            await google.colab.kernel.invokeFunction('convertToInteractive',\n",
              "                                                     [key], {});\n",
              "          if (!dataTable) return;\n",
              "\n",
              "          const docLinkHtml = 'Like what you see? Visit the ' +\n",
              "            '<a target=\"_blank\" href=https://colab.research.google.com/notebooks/data_table.ipynb>data table notebook</a>'\n",
              "            + ' to learn more about interactive tables.';\n",
              "          element.innerHTML = '';\n",
              "          dataTable['output_type'] = 'display_data';\n",
              "          await google.colab.output.renderOutput(dataTable, element);\n",
              "          const docLink = document.createElement('div');\n",
              "          docLink.innerHTML = docLinkHtml;\n",
              "          element.appendChild(docLink);\n",
              "        }\n",
              "      </script>\n",
              "    </div>\n",
              "  </div>\n",
              "  "
            ]
          },
          "metadata": {},
          "execution_count": 31
        }
      ]
    },
    {
      "cell_type": "markdown",
      "source": [
        "**Controlamos los valores nulos**\n",
        "*si es que estos existen*"
      ],
      "metadata": {
        "id": "hI-j0e_s0n3b"
      }
    },
    {
      "cell_type": "code",
      "source": [
        "df.isnull().values.any()"
      ],
      "metadata": {
        "colab": {
          "base_uri": "https://localhost:8080/"
        },
        "id": "47-MqJ4h0v6E",
        "outputId": "becea077-6d29-4913-c873-cd4bfa440738"
      },
      "execution_count": 32,
      "outputs": [
        {
          "output_type": "execute_result",
          "data": {
            "text/plain": [
              "True"
            ]
          },
          "metadata": {},
          "execution_count": 32
        }
      ]
    },
    {
      "cell_type": "code",
      "source": [
        "df.isnull().sum().sum()"
      ],
      "metadata": {
        "colab": {
          "base_uri": "https://localhost:8080/"
        },
        "id": "3mkOr_mF09F5",
        "outputId": "1d4c7a18-2cc7-4858-9f7b-2366ab8d30a4"
      },
      "execution_count": 33,
      "outputs": [
        {
          "output_type": "execute_result",
          "data": {
            "text/plain": [
              "1"
            ]
          },
          "metadata": {},
          "execution_count": 33
        }
      ]
    },
    {
      "cell_type": "code",
      "source": [
        "nan_rows = df[df.isnull().any(1)]\n",
        "nan_rows"
      ],
      "metadata": {
        "colab": {
          "base_uri": "https://localhost:8080/",
          "height": 115
        },
        "id": "b81OIE5G04SD",
        "outputId": "60589d9d-6252-40be-933f-444ec0366b19"
      },
      "execution_count": 34,
      "outputs": [
        {
          "output_type": "stream",
          "name": "stderr",
          "text": [
            "<ipython-input-34-1d75c7dbdb71>:1: FutureWarning: In a future version of pandas all arguments of DataFrame.any and Series.any will be keyword-only.\n",
            "  nan_rows = df[df.isnull().any(1)]\n"
          ]
        },
        {
          "output_type": "execute_result",
          "data": {
            "text/plain": [
              "     place gender  age home        time Velocidad\n",
              "249  18589   Male    5  NaN  302.683333     Lento"
            ],
            "text/html": [
              "\n",
              "  <div id=\"df-21b545b4-6c91-42f5-9779-f848164a0faf\">\n",
              "    <div class=\"colab-df-container\">\n",
              "      <div>\n",
              "<style scoped>\n",
              "    .dataframe tbody tr th:only-of-type {\n",
              "        vertical-align: middle;\n",
              "    }\n",
              "\n",
              "    .dataframe tbody tr th {\n",
              "        vertical-align: top;\n",
              "    }\n",
              "\n",
              "    .dataframe thead th {\n",
              "        text-align: right;\n",
              "    }\n",
              "</style>\n",
              "<table border=\"1\" class=\"dataframe\">\n",
              "  <thead>\n",
              "    <tr style=\"text-align: right;\">\n",
              "      <th></th>\n",
              "      <th>place</th>\n",
              "      <th>gender</th>\n",
              "      <th>age</th>\n",
              "      <th>home</th>\n",
              "      <th>time</th>\n",
              "      <th>Velocidad</th>\n",
              "    </tr>\n",
              "  </thead>\n",
              "  <tbody>\n",
              "    <tr>\n",
              "      <th>249</th>\n",
              "      <td>18589</td>\n",
              "      <td>Male</td>\n",
              "      <td>5</td>\n",
              "      <td>NaN</td>\n",
              "      <td>302.683333</td>\n",
              "      <td>Lento</td>\n",
              "    </tr>\n",
              "  </tbody>\n",
              "</table>\n",
              "</div>\n",
              "      <button class=\"colab-df-convert\" onclick=\"convertToInteractive('df-21b545b4-6c91-42f5-9779-f848164a0faf')\"\n",
              "              title=\"Convert this dataframe to an interactive table.\"\n",
              "              style=\"display:none;\">\n",
              "        \n",
              "  <svg xmlns=\"http://www.w3.org/2000/svg\" height=\"24px\"viewBox=\"0 0 24 24\"\n",
              "       width=\"24px\">\n",
              "    <path d=\"M0 0h24v24H0V0z\" fill=\"none\"/>\n",
              "    <path d=\"M18.56 5.44l.94 2.06.94-2.06 2.06-.94-2.06-.94-.94-2.06-.94 2.06-2.06.94zm-11 1L8.5 8.5l.94-2.06 2.06-.94-2.06-.94L8.5 2.5l-.94 2.06-2.06.94zm10 10l.94 2.06.94-2.06 2.06-.94-2.06-.94-.94-2.06-.94 2.06-2.06.94z\"/><path d=\"M17.41 7.96l-1.37-1.37c-.4-.4-.92-.59-1.43-.59-.52 0-1.04.2-1.43.59L10.3 9.45l-7.72 7.72c-.78.78-.78 2.05 0 2.83L4 21.41c.39.39.9.59 1.41.59.51 0 1.02-.2 1.41-.59l7.78-7.78 2.81-2.81c.8-.78.8-2.07 0-2.86zM5.41 20L4 18.59l7.72-7.72 1.47 1.35L5.41 20z\"/>\n",
              "  </svg>\n",
              "      </button>\n",
              "      \n",
              "  <style>\n",
              "    .colab-df-container {\n",
              "      display:flex;\n",
              "      flex-wrap:wrap;\n",
              "      gap: 12px;\n",
              "    }\n",
              "\n",
              "    .colab-df-convert {\n",
              "      background-color: #E8F0FE;\n",
              "      border: none;\n",
              "      border-radius: 50%;\n",
              "      cursor: pointer;\n",
              "      display: none;\n",
              "      fill: #1967D2;\n",
              "      height: 32px;\n",
              "      padding: 0 0 0 0;\n",
              "      width: 32px;\n",
              "    }\n",
              "\n",
              "    .colab-df-convert:hover {\n",
              "      background-color: #E2EBFA;\n",
              "      box-shadow: 0px 1px 2px rgba(60, 64, 67, 0.3), 0px 1px 3px 1px rgba(60, 64, 67, 0.15);\n",
              "      fill: #174EA6;\n",
              "    }\n",
              "\n",
              "    [theme=dark] .colab-df-convert {\n",
              "      background-color: #3B4455;\n",
              "      fill: #D2E3FC;\n",
              "    }\n",
              "\n",
              "    [theme=dark] .colab-df-convert:hover {\n",
              "      background-color: #434B5C;\n",
              "      box-shadow: 0px 1px 3px 1px rgba(0, 0, 0, 0.15);\n",
              "      filter: drop-shadow(0px 1px 2px rgba(0, 0, 0, 0.3));\n",
              "      fill: #FFFFFF;\n",
              "    }\n",
              "  </style>\n",
              "\n",
              "      <script>\n",
              "        const buttonEl =\n",
              "          document.querySelector('#df-21b545b4-6c91-42f5-9779-f848164a0faf button.colab-df-convert');\n",
              "        buttonEl.style.display =\n",
              "          google.colab.kernel.accessAllowed ? 'block' : 'none';\n",
              "\n",
              "        async function convertToInteractive(key) {\n",
              "          const element = document.querySelector('#df-21b545b4-6c91-42f5-9779-f848164a0faf');\n",
              "          const dataTable =\n",
              "            await google.colab.kernel.invokeFunction('convertToInteractive',\n",
              "                                                     [key], {});\n",
              "          if (!dataTable) return;\n",
              "\n",
              "          const docLinkHtml = 'Like what you see? Visit the ' +\n",
              "            '<a target=\"_blank\" href=https://colab.research.google.com/notebooks/data_table.ipynb>data table notebook</a>'\n",
              "            + ' to learn more about interactive tables.';\n",
              "          element.innerHTML = '';\n",
              "          dataTable['output_type'] = 'display_data';\n",
              "          await google.colab.output.renderOutput(dataTable, element);\n",
              "          const docLink = document.createElement('div');\n",
              "          docLink.innerHTML = docLinkHtml;\n",
              "          element.appendChild(docLink);\n",
              "        }\n",
              "      </script>\n",
              "    </div>\n",
              "  </div>\n",
              "  "
            ]
          },
          "metadata": {},
          "execution_count": 34
        }
      ]
    },
    {
      "cell_type": "markdown",
      "source": [
        "**Por lo que vimos, existe un solo valor vacío, el cual está en el hogar del corredor 249**"
      ],
      "metadata": {
        "id": "oa1GECSx0-S9"
      }
    },
    {
      "cell_type": "markdown",
      "source": [
        "*En otros csv´s los NaN suelen ser numeros, entonces se pueden reemplazar por la media, pero aqui el valor faltante es un string, además de ser solo una fila asi que se decidió eliminar la única fila con ese error*"
      ],
      "metadata": {
        "id": "bQSKaf5a3Lup"
      }
    },
    {
      "cell_type": "code",
      "source": [
        "df = df.dropna(subset=[\"home\"])\n",
        "df"
      ],
      "metadata": {
        "colab": {
          "base_uri": "https://localhost:8080/",
          "height": 424
        },
        "id": "bXyQuqSd2DMN",
        "outputId": "a7c25651-56f2-4d30-e044-14e7c176aef0"
      },
      "execution_count": 35,
      "outputs": [
        {
          "output_type": "execute_result",
          "data": {
            "text/plain": [
              "     place  gender  age home        time Velocidad\n",
              "0     3592    Male   52  GBR  217.483333   Regular\n",
              "1    13853  Female   40   NY  272.550000   Regular\n",
              "2    12256    Male   31  FRA  265.283333   Regular\n",
              "3    10457  Female   33   MI  256.150000   Regular\n",
              "4     9686    Male   33   NY  252.250000   Regular\n",
              "..     ...     ...  ...  ...         ...       ...\n",
              "995  16261    Male   61  FRA  285.883333   Regular\n",
              "996   1131    Male   37  GBR  191.916667     Veloz\n",
              "997  16713  Female   53  IRL  289.016667   Regular\n",
              "998  14241  Female   21   NY  276.050000   Regular\n",
              "999   8726    Male   55  GER  240.966667   Regular\n",
              "\n",
              "[999 rows x 6 columns]"
            ],
            "text/html": [
              "\n",
              "  <div id=\"df-0f595240-0361-4c74-9d54-2c417220e7e9\">\n",
              "    <div class=\"colab-df-container\">\n",
              "      <div>\n",
              "<style scoped>\n",
              "    .dataframe tbody tr th:only-of-type {\n",
              "        vertical-align: middle;\n",
              "    }\n",
              "\n",
              "    .dataframe tbody tr th {\n",
              "        vertical-align: top;\n",
              "    }\n",
              "\n",
              "    .dataframe thead th {\n",
              "        text-align: right;\n",
              "    }\n",
              "</style>\n",
              "<table border=\"1\" class=\"dataframe\">\n",
              "  <thead>\n",
              "    <tr style=\"text-align: right;\">\n",
              "      <th></th>\n",
              "      <th>place</th>\n",
              "      <th>gender</th>\n",
              "      <th>age</th>\n",
              "      <th>home</th>\n",
              "      <th>time</th>\n",
              "      <th>Velocidad</th>\n",
              "    </tr>\n",
              "  </thead>\n",
              "  <tbody>\n",
              "    <tr>\n",
              "      <th>0</th>\n",
              "      <td>3592</td>\n",
              "      <td>Male</td>\n",
              "      <td>52</td>\n",
              "      <td>GBR</td>\n",
              "      <td>217.483333</td>\n",
              "      <td>Regular</td>\n",
              "    </tr>\n",
              "    <tr>\n",
              "      <th>1</th>\n",
              "      <td>13853</td>\n",
              "      <td>Female</td>\n",
              "      <td>40</td>\n",
              "      <td>NY</td>\n",
              "      <td>272.550000</td>\n",
              "      <td>Regular</td>\n",
              "    </tr>\n",
              "    <tr>\n",
              "      <th>2</th>\n",
              "      <td>12256</td>\n",
              "      <td>Male</td>\n",
              "      <td>31</td>\n",
              "      <td>FRA</td>\n",
              "      <td>265.283333</td>\n",
              "      <td>Regular</td>\n",
              "    </tr>\n",
              "    <tr>\n",
              "      <th>3</th>\n",
              "      <td>10457</td>\n",
              "      <td>Female</td>\n",
              "      <td>33</td>\n",
              "      <td>MI</td>\n",
              "      <td>256.150000</td>\n",
              "      <td>Regular</td>\n",
              "    </tr>\n",
              "    <tr>\n",
              "      <th>4</th>\n",
              "      <td>9686</td>\n",
              "      <td>Male</td>\n",
              "      <td>33</td>\n",
              "      <td>NY</td>\n",
              "      <td>252.250000</td>\n",
              "      <td>Regular</td>\n",
              "    </tr>\n",
              "    <tr>\n",
              "      <th>...</th>\n",
              "      <td>...</td>\n",
              "      <td>...</td>\n",
              "      <td>...</td>\n",
              "      <td>...</td>\n",
              "      <td>...</td>\n",
              "      <td>...</td>\n",
              "    </tr>\n",
              "    <tr>\n",
              "      <th>995</th>\n",
              "      <td>16261</td>\n",
              "      <td>Male</td>\n",
              "      <td>61</td>\n",
              "      <td>FRA</td>\n",
              "      <td>285.883333</td>\n",
              "      <td>Regular</td>\n",
              "    </tr>\n",
              "    <tr>\n",
              "      <th>996</th>\n",
              "      <td>1131</td>\n",
              "      <td>Male</td>\n",
              "      <td>37</td>\n",
              "      <td>GBR</td>\n",
              "      <td>191.916667</td>\n",
              "      <td>Veloz</td>\n",
              "    </tr>\n",
              "    <tr>\n",
              "      <th>997</th>\n",
              "      <td>16713</td>\n",
              "      <td>Female</td>\n",
              "      <td>53</td>\n",
              "      <td>IRL</td>\n",
              "      <td>289.016667</td>\n",
              "      <td>Regular</td>\n",
              "    </tr>\n",
              "    <tr>\n",
              "      <th>998</th>\n",
              "      <td>14241</td>\n",
              "      <td>Female</td>\n",
              "      <td>21</td>\n",
              "      <td>NY</td>\n",
              "      <td>276.050000</td>\n",
              "      <td>Regular</td>\n",
              "    </tr>\n",
              "    <tr>\n",
              "      <th>999</th>\n",
              "      <td>8726</td>\n",
              "      <td>Male</td>\n",
              "      <td>55</td>\n",
              "      <td>GER</td>\n",
              "      <td>240.966667</td>\n",
              "      <td>Regular</td>\n",
              "    </tr>\n",
              "  </tbody>\n",
              "</table>\n",
              "<p>999 rows × 6 columns</p>\n",
              "</div>\n",
              "      <button class=\"colab-df-convert\" onclick=\"convertToInteractive('df-0f595240-0361-4c74-9d54-2c417220e7e9')\"\n",
              "              title=\"Convert this dataframe to an interactive table.\"\n",
              "              style=\"display:none;\">\n",
              "        \n",
              "  <svg xmlns=\"http://www.w3.org/2000/svg\" height=\"24px\"viewBox=\"0 0 24 24\"\n",
              "       width=\"24px\">\n",
              "    <path d=\"M0 0h24v24H0V0z\" fill=\"none\"/>\n",
              "    <path d=\"M18.56 5.44l.94 2.06.94-2.06 2.06-.94-2.06-.94-.94-2.06-.94 2.06-2.06.94zm-11 1L8.5 8.5l.94-2.06 2.06-.94-2.06-.94L8.5 2.5l-.94 2.06-2.06.94zm10 10l.94 2.06.94-2.06 2.06-.94-2.06-.94-.94-2.06-.94 2.06-2.06.94z\"/><path d=\"M17.41 7.96l-1.37-1.37c-.4-.4-.92-.59-1.43-.59-.52 0-1.04.2-1.43.59L10.3 9.45l-7.72 7.72c-.78.78-.78 2.05 0 2.83L4 21.41c.39.39.9.59 1.41.59.51 0 1.02-.2 1.41-.59l7.78-7.78 2.81-2.81c.8-.78.8-2.07 0-2.86zM5.41 20L4 18.59l7.72-7.72 1.47 1.35L5.41 20z\"/>\n",
              "  </svg>\n",
              "      </button>\n",
              "      \n",
              "  <style>\n",
              "    .colab-df-container {\n",
              "      display:flex;\n",
              "      flex-wrap:wrap;\n",
              "      gap: 12px;\n",
              "    }\n",
              "\n",
              "    .colab-df-convert {\n",
              "      background-color: #E8F0FE;\n",
              "      border: none;\n",
              "      border-radius: 50%;\n",
              "      cursor: pointer;\n",
              "      display: none;\n",
              "      fill: #1967D2;\n",
              "      height: 32px;\n",
              "      padding: 0 0 0 0;\n",
              "      width: 32px;\n",
              "    }\n",
              "\n",
              "    .colab-df-convert:hover {\n",
              "      background-color: #E2EBFA;\n",
              "      box-shadow: 0px 1px 2px rgba(60, 64, 67, 0.3), 0px 1px 3px 1px rgba(60, 64, 67, 0.15);\n",
              "      fill: #174EA6;\n",
              "    }\n",
              "\n",
              "    [theme=dark] .colab-df-convert {\n",
              "      background-color: #3B4455;\n",
              "      fill: #D2E3FC;\n",
              "    }\n",
              "\n",
              "    [theme=dark] .colab-df-convert:hover {\n",
              "      background-color: #434B5C;\n",
              "      box-shadow: 0px 1px 3px 1px rgba(0, 0, 0, 0.15);\n",
              "      filter: drop-shadow(0px 1px 2px rgba(0, 0, 0, 0.3));\n",
              "      fill: #FFFFFF;\n",
              "    }\n",
              "  </style>\n",
              "\n",
              "      <script>\n",
              "        const buttonEl =\n",
              "          document.querySelector('#df-0f595240-0361-4c74-9d54-2c417220e7e9 button.colab-df-convert');\n",
              "        buttonEl.style.display =\n",
              "          google.colab.kernel.accessAllowed ? 'block' : 'none';\n",
              "\n",
              "        async function convertToInteractive(key) {\n",
              "          const element = document.querySelector('#df-0f595240-0361-4c74-9d54-2c417220e7e9');\n",
              "          const dataTable =\n",
              "            await google.colab.kernel.invokeFunction('convertToInteractive',\n",
              "                                                     [key], {});\n",
              "          if (!dataTable) return;\n",
              "\n",
              "          const docLinkHtml = 'Like what you see? Visit the ' +\n",
              "            '<a target=\"_blank\" href=https://colab.research.google.com/notebooks/data_table.ipynb>data table notebook</a>'\n",
              "            + ' to learn more about interactive tables.';\n",
              "          element.innerHTML = '';\n",
              "          dataTable['output_type'] = 'display_data';\n",
              "          await google.colab.output.renderOutput(dataTable, element);\n",
              "          const docLink = document.createElement('div');\n",
              "          docLink.innerHTML = docLinkHtml;\n",
              "          element.appendChild(docLink);\n",
              "        }\n",
              "      </script>\n",
              "    </div>\n",
              "  </div>\n",
              "  "
            ]
          },
          "metadata": {},
          "execution_count": 35
        }
      ]
    },
    {
      "cell_type": "code",
      "source": [
        "df.isnull().values.any()"
      ],
      "metadata": {
        "colab": {
          "base_uri": "https://localhost:8080/"
        },
        "id": "KPVxkPRt35dV",
        "outputId": "73314fbf-6efd-470a-eb05-a86bfff13a3f"
      },
      "execution_count": 36,
      "outputs": [
        {
          "output_type": "execute_result",
          "data": {
            "text/plain": [
              "False"
            ]
          },
          "metadata": {},
          "execution_count": 36
        }
      ]
    },
    {
      "cell_type": "markdown",
      "source": [
        "**Con los nulos aliminados, se separan las variables independientes de las dependientes**"
      ],
      "metadata": {
        "id": "O8-2yE5R36Vg"
      }
    },
    {
      "cell_type": "code",
      "source": [
        "X = df.iloc[:, :-1].values\n",
        "y = df.iloc[:, -1].values\n",
        "df.shape\n"
      ],
      "metadata": {
        "colab": {
          "base_uri": "https://localhost:8080/"
        },
        "id": "fSjuI-GzG-Bv",
        "outputId": "cf35f53b-1650-49db-dbee-932904775b76"
      },
      "execution_count": 37,
      "outputs": [
        {
          "output_type": "execute_result",
          "data": {
            "text/plain": [
              "(999, 6)"
            ]
          },
          "metadata": {},
          "execution_count": 37
        }
      ]
    },
    {
      "cell_type": "code",
      "source": [
        "X, y\n"
      ],
      "metadata": {
        "colab": {
          "base_uri": "https://localhost:8080/"
        },
        "id": "My4sydX9HAnN",
        "outputId": "623542c2-8214-4f6b-83a9-f2774da343a7"
      },
      "execution_count": 38,
      "outputs": [
        {
          "output_type": "execute_result",
          "data": {
            "text/plain": [
              "(array([[3592, 'Male', 52, 'GBR', 217.4833333],\n",
              "        [13853, 'Female', 40, 'NY', 272.55],\n",
              "        [12256, 'Male', 31, 'FRA', 265.2833333],\n",
              "        ...,\n",
              "        [16713, 'Female', 53, 'IRL', 289.0166667],\n",
              "        [14241, 'Female', 21, 'NY', 276.05],\n",
              "        [8726, 'Male', 55, 'GER', 240.9666667]], dtype=object),\n",
              " array(['Regular', 'Regular', 'Regular', 'Regular', 'Regular', 'Regular',\n",
              "        'Regular', 'Regular', 'Regular', 'Lento', 'Regular', 'Regular',\n",
              "        'Regular', 'Regular', 'Veloz', 'Regular', 'Regular', 'Regular',\n",
              "        'Regular', 'Regular', 'Regular', 'Regular', 'Lento', 'Lento',\n",
              "        'Lento', 'Regular', 'Regular', 'Regular', 'Regular', 'Regular',\n",
              "        'Veloz', 'Lento', 'Regular', 'Regular', 'Regular', 'Regular',\n",
              "        'Regular', 'Regular', 'Regular', 'Veloz', 'Regular', 'Regular',\n",
              "        'Regular', 'Regular', 'Regular', 'Regular', 'Lento', 'Regular',\n",
              "        'Regular', 'Veloz', 'Regular', 'Lento', 'Lento', 'Regular',\n",
              "        'Lento', 'Regular', 'Lento', 'Regular', 'Regular', 'Regular',\n",
              "        'Regular', 'Lento', 'Regular', 'Regular', 'Veloz', 'Regular',\n",
              "        'Regular', 'Regular', 'Regular', 'Regular', 'Regular', 'Regular',\n",
              "        'Regular', 'Regular', 'Regular', 'Regular', 'Lento', 'Lento',\n",
              "        'Regular', 'Regular', 'Regular', 'Lento', 'Regular', 'Regular',\n",
              "        'Regular', 'Regular', 'Regular', 'Lento', 'Regular', 'Regular',\n",
              "        'Regular', 'Regular', 'Regular', 'Regular', 'Veloz', 'Regular',\n",
              "        'Regular', 'Regular', 'Regular', 'Lento', 'Regular', 'Regular',\n",
              "        'Lento', 'Veloz', 'Regular', 'Lento', 'Regular', 'Regular',\n",
              "        'Regular', 'Regular', 'Regular', 'Veloz', 'Regular', 'Regular',\n",
              "        'Regular', 'Lento', 'Veloz', 'Lento', 'Regular', 'Veloz',\n",
              "        'Regular', 'Regular', 'Regular', 'Regular', 'Veloz', 'Regular',\n",
              "        'Regular', 'Regular', 'Lento', 'Lento', 'Regular', 'Lento',\n",
              "        'Lento', 'Regular', 'Regular', 'Veloz', 'Lento', 'Regular',\n",
              "        'Regular', 'Regular', 'Regular', 'Regular', 'Regular', 'Regular',\n",
              "        'Regular', 'Lento', 'Regular', 'Regular', 'Regular', 'Regular',\n",
              "        'Veloz', 'Veloz', 'Lento', 'Lento', 'Regular', 'Lento', 'Regular',\n",
              "        'Regular', 'Regular', 'Regular', 'Lento', 'Regular', 'Regular',\n",
              "        'Veloz', 'Lento', 'Lento', 'Lento', 'Regular', 'Regular',\n",
              "        'Regular', 'Regular', 'Regular', 'Regular', 'Regular', 'Regular',\n",
              "        'Lento', 'Regular', 'Regular', 'Regular', 'Regular', 'Lento',\n",
              "        'Regular', 'Regular', 'Regular', 'Regular', 'Regular', 'Regular',\n",
              "        'Lento', 'Regular', 'Regular', 'Regular', 'Regular', 'Lento',\n",
              "        'Lento', 'Lento', 'Regular', 'Regular', 'Regular', 'Lento',\n",
              "        'Regular', 'Regular', 'Lento', 'Regular', 'Veloz', 'Regular',\n",
              "        'Regular', 'Regular', 'Veloz', 'Regular', 'Regular', 'Regular',\n",
              "        'Regular', 'Regular', 'Regular', 'Veloz', 'Regular', 'Regular',\n",
              "        'Veloz', 'Regular', 'Regular', 'Regular', 'Lento', 'Regular',\n",
              "        'Regular', 'Regular', 'Regular', 'Regular', 'Regular', 'Regular',\n",
              "        'Regular', 'Regular', 'Lento', 'Regular', 'Regular', 'Lento',\n",
              "        'Lento', 'Regular', 'Regular', 'Regular', 'Veloz', 'Regular',\n",
              "        'Lento', 'Regular', 'Veloz', 'Lento', 'Lento', 'Regular',\n",
              "        'Regular', 'Regular', 'Regular', 'Regular', 'Regular', 'Regular',\n",
              "        'Regular', 'Regular', 'Regular', 'Regular', 'Lento', 'Regular',\n",
              "        'Veloz', 'Regular', 'Regular', 'Lento', 'Regular', 'Regular',\n",
              "        'Regular', 'Regular', 'Regular', 'Regular', 'Regular', 'Regular',\n",
              "        'Lento', 'Regular', 'Regular', 'Regular', 'Lento', 'Regular',\n",
              "        'Regular', 'Regular', 'Lento', 'Lento', 'Lento', 'Regular',\n",
              "        'Regular', 'Lento', 'Regular', 'Regular', 'Regular', 'Regular',\n",
              "        'Regular', 'Regular', 'Regular', 'Regular', 'Regular', 'Regular',\n",
              "        'Lento', 'Lento', 'Regular', 'Veloz', 'Regular', 'Regular',\n",
              "        'Regular', 'Regular', 'Lento', 'Regular', 'Lento', 'Regular',\n",
              "        'Regular', 'Regular', 'Lento', 'Regular', 'Regular', 'Regular',\n",
              "        'Regular', 'Regular', 'Lento', 'Lento', 'Lento', 'Lento', 'Lento',\n",
              "        'Regular', 'Regular', 'Regular', 'Regular', 'Lento', 'Regular',\n",
              "        'Lento', 'Lento', 'Regular', 'Regular', 'Lento', 'Regular',\n",
              "        'Regular', 'Regular', 'Lento', 'Regular', 'Regular', 'Regular',\n",
              "        'Regular', 'Lento', 'Regular', 'Regular', 'Lento', 'Regular',\n",
              "        'Regular', 'Regular', 'Regular', 'Regular', 'Lento', 'Regular',\n",
              "        'Regular', 'Regular', 'Regular', 'Regular', 'Regular', 'Regular',\n",
              "        'Lento', 'Regular', 'Regular', 'Veloz', 'Regular', 'Lento',\n",
              "        'Lento', 'Regular', 'Regular', 'Lento', 'Regular', 'Regular',\n",
              "        'Regular', 'Lento', 'Regular', 'Regular', 'Regular', 'Regular',\n",
              "        'Regular', 'Veloz', 'Lento', 'Lento', 'Lento', 'Lento', 'Regular',\n",
              "        'Regular', 'Regular', 'Regular', 'Regular', 'Lento', 'Lento',\n",
              "        'Lento', 'Regular', 'Regular', 'Lento', 'Regular', 'Lento',\n",
              "        'Regular', 'Regular', 'Regular', 'Regular', 'Lento', 'Regular',\n",
              "        'Regular', 'Regular', 'Regular', 'Regular', 'Regular', 'Lento',\n",
              "        'Regular', 'Regular', 'Lento', 'Regular', 'Regular', 'Veloz',\n",
              "        'Regular', 'Veloz', 'Regular', 'Veloz', 'Regular', 'Lento',\n",
              "        'Regular', 'Lento', 'Regular', 'Regular', 'Regular', 'Lento',\n",
              "        'Regular', 'Regular', 'Regular', 'Lento', 'Veloz', 'Lento',\n",
              "        'Regular', 'Regular', 'Regular', 'Veloz', 'Lento', 'Regular',\n",
              "        'Regular', 'Regular', 'Regular', 'Regular', 'Regular', 'Regular',\n",
              "        'Regular', 'Regular', 'Lento', 'Veloz', 'Lento', 'Lento',\n",
              "        'Regular', 'Regular', 'Lento', 'Regular', 'Regular', 'Veloz',\n",
              "        'Lento', 'Lento', 'Regular', 'Regular', 'Regular', 'Regular',\n",
              "        'Regular', 'Regular', 'Veloz', 'Lento', 'Regular', 'Regular',\n",
              "        'Regular', 'Regular', 'Regular', 'Regular', 'Lento', 'Regular',\n",
              "        'Regular', 'Lento', 'Lento', 'Regular', 'Regular', 'Regular',\n",
              "        'Regular', 'Lento', 'Regular', 'Regular', 'Regular', 'Lento',\n",
              "        'Regular', 'Lento', 'Regular', 'Lento', 'Regular', 'Regular',\n",
              "        'Regular', 'Regular', 'Regular', 'Regular', 'Regular', 'Regular',\n",
              "        'Veloz', 'Regular', 'Regular', 'Regular', 'Regular', 'Regular',\n",
              "        'Regular', 'Regular', 'Regular', 'Regular', 'Regular', 'Veloz',\n",
              "        'Lento', 'Regular', 'Regular', 'Regular', 'Lento', 'Regular',\n",
              "        'Regular', 'Regular', 'Lento', 'Regular', 'Lento', 'Regular',\n",
              "        'Regular', 'Regular', 'Regular', 'Regular', 'Regular', 'Lento',\n",
              "        'Regular', 'Regular', 'Regular', 'Regular', 'Regular', 'Regular',\n",
              "        'Regular', 'Regular', 'Regular', 'Regular', 'Regular', 'Regular',\n",
              "        'Regular', 'Regular', 'Regular', 'Lento', 'Regular', 'Lento',\n",
              "        'Regular', 'Regular', 'Regular', 'Regular', 'Regular', 'Regular',\n",
              "        'Regular', 'Regular', 'Regular', 'Regular', 'Regular', 'Regular',\n",
              "        'Regular', 'Lento', 'Regular', 'Regular', 'Regular', 'Regular',\n",
              "        'Regular', 'Lento', 'Regular', 'Regular', 'Regular', 'Regular',\n",
              "        'Regular', 'Regular', 'Lento', 'Regular', 'Regular', 'Regular',\n",
              "        'Lento', 'Regular', 'Veloz', 'Regular', 'Lento', 'Regular',\n",
              "        'Regular', 'Lento', 'Regular', 'Regular', 'Lento', 'Regular',\n",
              "        'Regular', 'Regular', 'Regular', 'Lento', 'Regular', 'Veloz',\n",
              "        'Lento', 'Regular', 'Regular', 'Regular', 'Regular', 'Regular',\n",
              "        'Regular', 'Lento', 'Regular', 'Regular', 'Regular', 'Lento',\n",
              "        'Veloz', 'Veloz', 'Regular', 'Regular', 'Regular', 'Regular',\n",
              "        'Regular', 'Regular', 'Regular', 'Regular', 'Regular', 'Regular',\n",
              "        'Regular', 'Lento', 'Veloz', 'Regular', 'Regular', 'Regular',\n",
              "        'Regular', 'Regular', 'Lento', 'Veloz', 'Regular', 'Lento',\n",
              "        'Regular', 'Regular', 'Regular', 'Regular', 'Regular', 'Regular',\n",
              "        'Lento', 'Regular', 'Regular', 'Lento', 'Regular', 'Regular',\n",
              "        'Regular', 'Regular', 'Regular', 'Veloz', 'Regular', 'Regular',\n",
              "        'Lento', 'Regular', 'Regular', 'Regular', 'Regular', 'Regular',\n",
              "        'Veloz', 'Lento', 'Regular', 'Regular', 'Regular', 'Regular',\n",
              "        'Veloz', 'Lento', 'Regular', 'Regular', 'Lento', 'Regular',\n",
              "        'Regular', 'Regular', 'Regular', 'Regular', 'Lento', 'Regular',\n",
              "        'Regular', 'Regular', 'Regular', 'Lento', 'Regular', 'Lento',\n",
              "        'Regular', 'Regular', 'Regular', 'Regular', 'Regular', 'Lento',\n",
              "        'Regular', 'Regular', 'Regular', 'Regular', 'Veloz', 'Lento',\n",
              "        'Regular', 'Lento', 'Lento', 'Lento', 'Regular', 'Regular',\n",
              "        'Regular', 'Regular', 'Regular', 'Regular', 'Regular', 'Regular',\n",
              "        'Regular', 'Regular', 'Regular', 'Regular', 'Veloz', 'Regular',\n",
              "        'Regular', 'Regular', 'Lento', 'Regular', 'Lento', 'Regular',\n",
              "        'Lento', 'Lento', 'Veloz', 'Regular', 'Regular', 'Lento',\n",
              "        'Regular', 'Lento', 'Regular', 'Lento', 'Lento', 'Regular',\n",
              "        'Lento', 'Lento', 'Regular', 'Regular', 'Lento', 'Lento',\n",
              "        'Regular', 'Regular', 'Regular', 'Regular', 'Regular', 'Regular',\n",
              "        'Regular', 'Regular', 'Lento', 'Veloz', 'Regular', 'Regular',\n",
              "        'Regular', 'Regular', 'Veloz', 'Regular', 'Regular', 'Lento',\n",
              "        'Regular', 'Regular', 'Lento', 'Regular', 'Regular', 'Regular',\n",
              "        'Regular', 'Regular', 'Regular', 'Lento', 'Regular', 'Regular',\n",
              "        'Regular', 'Regular', 'Lento', 'Regular', 'Veloz', 'Regular',\n",
              "        'Regular', 'Veloz', 'Regular', 'Regular', 'Regular', 'Lento',\n",
              "        'Regular', 'Regular', 'Regular', 'Regular', 'Regular', 'Regular',\n",
              "        'Regular', 'Lento', 'Regular', 'Regular', 'Lento', 'Regular',\n",
              "        'Lento', 'Regular', 'Regular', 'Regular', 'Lento', 'Regular',\n",
              "        'Regular', 'Lento', 'Regular', 'Regular', 'Lento', 'Regular',\n",
              "        'Lento', 'Regular', 'Regular', 'Regular', 'Regular', 'Lento',\n",
              "        'Regular', 'Lento', 'Regular', 'Regular', 'Regular', 'Regular',\n",
              "        'Regular', 'Regular', 'Regular', 'Regular', 'Regular', 'Lento',\n",
              "        'Regular', 'Regular', 'Lento', 'Regular', 'Lento', 'Regular',\n",
              "        'Lento', 'Regular', 'Lento', 'Regular', 'Regular', 'Lento',\n",
              "        'Regular', 'Lento', 'Lento', 'Regular', 'Regular', 'Regular',\n",
              "        'Regular', 'Regular', 'Lento', 'Veloz', 'Regular', 'Regular',\n",
              "        'Lento', 'Lento', 'Regular', 'Lento', 'Veloz', 'Regular', 'Lento',\n",
              "        'Regular', 'Lento', 'Veloz', 'Regular', 'Regular', 'Regular',\n",
              "        'Regular', 'Regular', 'Regular', 'Regular', 'Lento', 'Regular',\n",
              "        'Regular', 'Regular', 'Veloz', 'Regular', 'Regular', 'Regular',\n",
              "        'Regular', 'Regular', 'Regular', 'Regular', 'Regular', 'Regular',\n",
              "        'Regular', 'Veloz', 'Regular', 'Veloz', 'Regular', 'Regular',\n",
              "        'Regular', 'Lento', 'Regular', 'Regular', 'Regular', 'Lento',\n",
              "        'Veloz', 'Regular', 'Regular', 'Regular', 'Lento', 'Regular',\n",
              "        'Veloz', 'Lento', 'Regular', 'Regular', 'Regular', 'Regular',\n",
              "        'Lento', 'Regular', 'Veloz', 'Regular', 'Regular', 'Regular',\n",
              "        'Regular', 'Regular', 'Lento', 'Regular', 'Regular', 'Lento',\n",
              "        'Regular', 'Regular', 'Regular', 'Regular', 'Regular', 'Lento',\n",
              "        'Regular', 'Regular', 'Regular', 'Regular', 'Regular', 'Regular',\n",
              "        'Regular', 'Lento', 'Lento', 'Regular', 'Regular', 'Veloz',\n",
              "        'Regular', 'Veloz', 'Regular', 'Regular', 'Lento', 'Regular',\n",
              "        'Regular', 'Regular', 'Veloz', 'Lento', 'Regular', 'Regular',\n",
              "        'Lento', 'Regular', 'Regular', 'Lento', 'Regular', 'Regular',\n",
              "        'Regular', 'Regular', 'Regular', 'Regular', 'Regular', 'Regular',\n",
              "        'Regular', 'Regular', 'Regular', 'Regular', 'Regular', 'Veloz',\n",
              "        'Lento', 'Lento', 'Regular', 'Regular', 'Regular', 'Regular',\n",
              "        'Regular', 'Veloz', 'Lento', 'Regular', 'Regular', 'Veloz',\n",
              "        'Regular', 'Regular', 'Regular', 'Lento', 'Regular', 'Regular',\n",
              "        'Lento', 'Regular', 'Lento', 'Regular', 'Lento', 'Lento',\n",
              "        'Regular', 'Regular', 'Regular', 'Regular', 'Regular', 'Regular',\n",
              "        'Regular', 'Regular', 'Lento', 'Regular', 'Regular', 'Veloz',\n",
              "        'Regular', 'Lento', 'Regular', 'Regular', 'Regular', 'Regular',\n",
              "        'Regular', 'Veloz', 'Regular', 'Regular', 'Regular'], dtype=object))"
            ]
          },
          "metadata": {},
          "execution_count": 38
        }
      ]
    },
    {
      "cell_type": "markdown",
      "source": [
        "**Se cambian los datos de tipo string por enteros (género, pais y velocidad)**"
      ],
      "metadata": {
        "id": "e12cpgTGTkgu"
      }
    },
    {
      "cell_type": "code",
      "source": [
        "labelencoder_X = LabelEncoder()\n",
        "X[:, 1] = labelencoder_X.fit_transform(X[:, 1])\n",
        "X[:, 3] = labelencoder_X.fit_transform(X[:, 3])\n",
        "X"
      ],
      "metadata": {
        "colab": {
          "base_uri": "https://localhost:8080/"
        },
        "id": "gBZRGhqYSgiC",
        "outputId": "c3851eed-24fa-468c-b0b2-394aaad42f32"
      },
      "execution_count": 39,
      "outputs": [
        {
          "output_type": "execute_result",
          "data": {
            "text/plain": [
              "array([[3592, 1, 52, 23, 217.4833333],\n",
              "       [13853, 0, 40, 50, 272.55],\n",
              "       [12256, 1, 31, 20, 265.2833333],\n",
              "       ...,\n",
              "       [16713, 0, 53, 29, 289.0166667],\n",
              "       [14241, 0, 21, 50, 276.05],\n",
              "       [8726, 1, 55, 24, 240.9666667]], dtype=object)"
            ]
          },
          "metadata": {},
          "execution_count": 39
        }
      ]
    },
    {
      "cell_type": "code",
      "source": [
        "labelencoder_X = LabelEncoder()\n",
        "y = labelencoder_X.fit_transform(y)\n",
        "y\n"
      ],
      "metadata": {
        "colab": {
          "base_uri": "https://localhost:8080/"
        },
        "id": "XmI9uhFPI6Lh",
        "outputId": "3e810123-04c2-423a-d85a-9fcc65da9d66"
      },
      "execution_count": 40,
      "outputs": [
        {
          "output_type": "execute_result",
          "data": {
            "text/plain": [
              "array([1, 1, 1, 1, 1, 1, 1, 1, 1, 0, 1, 1, 1, 1, 2, 1, 1, 1, 1, 1, 1, 1,\n",
              "       0, 0, 0, 1, 1, 1, 1, 1, 2, 0, 1, 1, 1, 1, 1, 1, 1, 2, 1, 1, 1, 1,\n",
              "       1, 1, 0, 1, 1, 2, 1, 0, 0, 1, 0, 1, 0, 1, 1, 1, 1, 0, 1, 1, 2, 1,\n",
              "       1, 1, 1, 1, 1, 1, 1, 1, 1, 1, 0, 0, 1, 1, 1, 0, 1, 1, 1, 1, 1, 0,\n",
              "       1, 1, 1, 1, 1, 1, 2, 1, 1, 1, 1, 0, 1, 1, 0, 2, 1, 0, 1, 1, 1, 1,\n",
              "       1, 2, 1, 1, 1, 0, 2, 0, 1, 2, 1, 1, 1, 1, 2, 1, 1, 1, 0, 0, 1, 0,\n",
              "       0, 1, 1, 2, 0, 1, 1, 1, 1, 1, 1, 1, 1, 0, 1, 1, 1, 1, 2, 2, 0, 0,\n",
              "       1, 0, 1, 1, 1, 1, 0, 1, 1, 2, 0, 0, 0, 1, 1, 1, 1, 1, 1, 1, 1, 0,\n",
              "       1, 1, 1, 1, 0, 1, 1, 1, 1, 1, 1, 0, 1, 1, 1, 1, 0, 0, 0, 1, 1, 1,\n",
              "       0, 1, 1, 0, 1, 2, 1, 1, 1, 2, 1, 1, 1, 1, 1, 1, 2, 1, 1, 2, 1, 1,\n",
              "       1, 0, 1, 1, 1, 1, 1, 1, 1, 1, 1, 0, 1, 1, 0, 0, 1, 1, 1, 2, 1, 0,\n",
              "       1, 2, 0, 0, 1, 1, 1, 1, 1, 1, 1, 1, 1, 1, 1, 0, 1, 2, 1, 1, 0, 1,\n",
              "       1, 1, 1, 1, 1, 1, 1, 0, 1, 1, 1, 0, 1, 1, 1, 0, 0, 0, 1, 1, 0, 1,\n",
              "       1, 1, 1, 1, 1, 1, 1, 1, 1, 0, 0, 1, 2, 1, 1, 1, 1, 0, 1, 0, 1, 1,\n",
              "       1, 0, 1, 1, 1, 1, 1, 0, 0, 0, 0, 0, 1, 1, 1, 1, 0, 1, 0, 0, 1, 1,\n",
              "       0, 1, 1, 1, 0, 1, 1, 1, 1, 0, 1, 1, 0, 1, 1, 1, 1, 1, 0, 1, 1, 1,\n",
              "       1, 1, 1, 1, 0, 1, 1, 2, 1, 0, 0, 1, 1, 0, 1, 1, 1, 0, 1, 1, 1, 1,\n",
              "       1, 2, 0, 0, 0, 0, 1, 1, 1, 1, 1, 0, 0, 0, 1, 1, 0, 1, 0, 1, 1, 1,\n",
              "       1, 0, 1, 1, 1, 1, 1, 1, 0, 1, 1, 0, 1, 1, 2, 1, 2, 1, 2, 1, 0, 1,\n",
              "       0, 1, 1, 1, 0, 1, 1, 1, 0, 2, 0, 1, 1, 1, 2, 0, 1, 1, 1, 1, 1, 1,\n",
              "       1, 1, 1, 0, 2, 0, 0, 1, 1, 0, 1, 1, 2, 0, 0, 1, 1, 1, 1, 1, 1, 2,\n",
              "       0, 1, 1, 1, 1, 1, 1, 0, 1, 1, 0, 0, 1, 1, 1, 1, 0, 1, 1, 1, 0, 1,\n",
              "       0, 1, 0, 1, 1, 1, 1, 1, 1, 1, 1, 2, 1, 1, 1, 1, 1, 1, 1, 1, 1, 1,\n",
              "       2, 0, 1, 1, 1, 0, 1, 1, 1, 0, 1, 0, 1, 1, 1, 1, 1, 1, 0, 1, 1, 1,\n",
              "       1, 1, 1, 1, 1, 1, 1, 1, 1, 1, 1, 1, 0, 1, 0, 1, 1, 1, 1, 1, 1, 1,\n",
              "       1, 1, 1, 1, 1, 1, 0, 1, 1, 1, 1, 1, 0, 1, 1, 1, 1, 1, 1, 0, 1, 1,\n",
              "       1, 0, 1, 2, 1, 0, 1, 1, 0, 1, 1, 0, 1, 1, 1, 1, 0, 1, 2, 0, 1, 1,\n",
              "       1, 1, 1, 1, 0, 1, 1, 1, 0, 2, 2, 1, 1, 1, 1, 1, 1, 1, 1, 1, 1, 1,\n",
              "       0, 2, 1, 1, 1, 1, 1, 0, 2, 1, 0, 1, 1, 1, 1, 1, 1, 0, 1, 1, 0, 1,\n",
              "       1, 1, 1, 1, 2, 1, 1, 0, 1, 1, 1, 1, 1, 2, 0, 1, 1, 1, 1, 2, 0, 1,\n",
              "       1, 0, 1, 1, 1, 1, 1, 0, 1, 1, 1, 1, 0, 1, 0, 1, 1, 1, 1, 1, 0, 1,\n",
              "       1, 1, 1, 2, 0, 1, 0, 0, 0, 1, 1, 1, 1, 1, 1, 1, 1, 1, 1, 1, 1, 2,\n",
              "       1, 1, 1, 0, 1, 0, 1, 0, 0, 2, 1, 1, 0, 1, 0, 1, 0, 0, 1, 0, 0, 1,\n",
              "       1, 0, 0, 1, 1, 1, 1, 1, 1, 1, 1, 0, 2, 1, 1, 1, 1, 2, 1, 1, 0, 1,\n",
              "       1, 0, 1, 1, 1, 1, 1, 1, 0, 1, 1, 1, 1, 0, 1, 2, 1, 1, 2, 1, 1, 1,\n",
              "       0, 1, 1, 1, 1, 1, 1, 1, 0, 1, 1, 0, 1, 0, 1, 1, 1, 0, 1, 1, 0, 1,\n",
              "       1, 0, 1, 0, 1, 1, 1, 1, 0, 1, 0, 1, 1, 1, 1, 1, 1, 1, 1, 1, 0, 1,\n",
              "       1, 0, 1, 0, 1, 0, 1, 0, 1, 1, 0, 1, 0, 0, 1, 1, 1, 1, 1, 0, 2, 1,\n",
              "       1, 0, 0, 1, 0, 2, 1, 0, 1, 0, 2, 1, 1, 1, 1, 1, 1, 1, 0, 1, 1, 1,\n",
              "       2, 1, 1, 1, 1, 1, 1, 1, 1, 1, 1, 2, 1, 2, 1, 1, 1, 0, 1, 1, 1, 0,\n",
              "       2, 1, 1, 1, 0, 1, 2, 0, 1, 1, 1, 1, 0, 1, 2, 1, 1, 1, 1, 1, 0, 1,\n",
              "       1, 0, 1, 1, 1, 1, 1, 0, 1, 1, 1, 1, 1, 1, 1, 0, 0, 1, 1, 2, 1, 2,\n",
              "       1, 1, 0, 1, 1, 1, 2, 0, 1, 1, 0, 1, 1, 0, 1, 1, 1, 1, 1, 1, 1, 1,\n",
              "       1, 1, 1, 1, 1, 2, 0, 0, 1, 1, 1, 1, 1, 2, 0, 1, 1, 2, 1, 1, 1, 0,\n",
              "       1, 1, 0, 1, 0, 1, 0, 0, 1, 1, 1, 1, 1, 1, 1, 1, 0, 1, 1, 2, 1, 0,\n",
              "       1, 1, 1, 1, 1, 2, 1, 1, 1])"
            ]
          },
          "metadata": {},
          "execution_count": 40
        }
      ]
    },
    {
      "cell_type": "markdown",
      "source": [
        "*Separamos los datos que usaremos para entrenar la maquina y los datos que usaremos para probarla*"
      ],
      "metadata": {
        "id": "T5HZ7gvGH1Ym"
      }
    },
    {
      "cell_type": "code",
      "source": [
        "X_train, X_test, y_train, y_test = train_test_split(X, y, test_size = 1/3, random_state = 0)\n"
      ],
      "metadata": {
        "id": "16ME2osfHMz1"
      },
      "execution_count": 41,
      "outputs": []
    },
    {
      "cell_type": "code",
      "source": [
        "X_train"
      ],
      "metadata": {
        "colab": {
          "base_uri": "https://localhost:8080/"
        },
        "id": "ahLWC5BJHOkv",
        "outputId": "e73ce575-3ef3-4aa1-f454-7fb7dce21008"
      },
      "execution_count": 42,
      "outputs": [
        {
          "output_type": "execute_result",
          "data": {
            "text/plain": [
              "array([[517, 1, 32, 62, 177.7166667],\n",
              "       [17939, 0, 45, 47, 293.85],\n",
              "       [19413, 1, 35, 47, 305.2333333],\n",
              "       ...,\n",
              "       [11471, 1, 31, 50, 259.7333333],\n",
              "       [11255, 1, 32, 50, 260.4833333],\n",
              "       [17773, 1, 28, 59, 295.4]], dtype=object)"
            ]
          },
          "metadata": {},
          "execution_count": 42
        }
      ]
    },
    {
      "cell_type": "code",
      "source": [
        "y_train"
      ],
      "metadata": {
        "colab": {
          "base_uri": "https://localhost:8080/"
        },
        "id": "-3c1JSBRHTEJ",
        "outputId": "aa0933f5-dea5-4a56-8328-e3fc64844bf1"
      },
      "execution_count": 43,
      "outputs": [
        {
          "output_type": "execute_result",
          "data": {
            "text/plain": [
              "array([2, 1, 0, 2, 2, 1, 1, 1, 1, 1, 1, 0, 0, 1, 0, 0, 1, 1, 2, 1, 1, 1,\n",
              "       0, 1, 1, 1, 1, 1, 1, 1, 0, 1, 1, 1, 1, 1, 0, 0, 1, 1, 1, 1, 0, 1,\n",
              "       1, 1, 0, 1, 1, 1, 0, 1, 1, 1, 1, 2, 1, 1, 0, 1, 1, 1, 1, 1, 1, 1,\n",
              "       0, 1, 1, 1, 1, 2, 1, 1, 0, 1, 0, 0, 1, 1, 0, 1, 1, 2, 1, 1, 1, 1,\n",
              "       0, 1, 0, 1, 1, 1, 1, 1, 1, 1, 1, 1, 1, 1, 1, 1, 1, 1, 1, 1, 1, 1,\n",
              "       1, 0, 0, 0, 0, 1, 0, 1, 1, 1, 2, 0, 0, 0, 1, 1, 0, 0, 1, 1, 1, 0,\n",
              "       0, 1, 1, 1, 0, 1, 0, 1, 1, 0, 1, 1, 1, 1, 0, 1, 1, 1, 1, 1, 1, 1,\n",
              "       1, 2, 1, 1, 1, 1, 0, 1, 2, 1, 1, 1, 0, 0, 1, 1, 1, 1, 1, 0, 1, 1,\n",
              "       1, 1, 0, 0, 0, 1, 1, 1, 1, 2, 1, 1, 1, 0, 1, 0, 1, 1, 1, 1, 1, 1,\n",
              "       1, 0, 0, 2, 1, 1, 2, 1, 1, 0, 1, 1, 0, 1, 1, 1, 1, 1, 1, 1, 1, 1,\n",
              "       1, 1, 1, 0, 0, 1, 0, 0, 0, 0, 1, 1, 1, 0, 1, 1, 1, 1, 1, 1, 1, 1,\n",
              "       2, 1, 1, 1, 1, 1, 1, 1, 0, 0, 1, 1, 0, 1, 0, 1, 2, 1, 0, 0, 1, 1,\n",
              "       0, 1, 1, 2, 1, 1, 1, 2, 1, 1, 1, 1, 2, 1, 1, 1, 1, 1, 1, 0, 1, 1,\n",
              "       1, 1, 1, 1, 0, 1, 1, 0, 2, 1, 1, 1, 1, 1, 1, 0, 0, 1, 0, 1, 1, 1,\n",
              "       0, 1, 0, 0, 1, 1, 1, 1, 1, 1, 1, 1, 0, 1, 1, 1, 2, 1, 1, 1, 1, 0,\n",
              "       0, 1, 1, 2, 1, 0, 0, 1, 1, 1, 2, 1, 1, 1, 0, 1, 1, 1, 2, 2, 1, 1,\n",
              "       1, 1, 0, 1, 1, 0, 1, 1, 1, 1, 1, 0, 1, 1, 1, 1, 1, 1, 1, 1, 1, 1,\n",
              "       1, 0, 1, 1, 1, 1, 1, 0, 0, 0, 1, 2, 1, 1, 0, 1, 0, 1, 1, 1, 1, 0,\n",
              "       0, 1, 1, 0, 1, 1, 1, 1, 1, 1, 1, 1, 1, 1, 1, 1, 2, 1, 0, 0, 1, 1,\n",
              "       1, 1, 1, 1, 0, 2, 0, 1, 0, 1, 1, 1, 0, 0, 0, 1, 0, 1, 1, 1, 0, 1,\n",
              "       2, 0, 2, 1, 1, 1, 1, 0, 1, 1, 1, 1, 0, 0, 1, 1, 0, 1, 1, 1, 0, 0,\n",
              "       1, 1, 1, 1, 0, 1, 1, 1, 2, 0, 1, 0, 1, 1, 1, 0, 1, 1, 2, 1, 1, 1,\n",
              "       0, 1, 1, 2, 0, 0, 1, 0, 1, 1, 1, 2, 1, 1, 2, 0, 0, 1, 0, 1, 1, 1,\n",
              "       1, 0, 1, 1, 1, 0, 1, 1, 1, 1, 1, 1, 0, 1, 1, 1, 1, 1, 1, 1, 1, 0,\n",
              "       1, 1, 0, 1, 1, 1, 1, 1, 0, 1, 1, 1, 0, 1, 1, 1, 0, 1, 1, 1, 1, 1,\n",
              "       1, 1, 1, 0, 1, 1, 1, 1, 1, 1, 1, 1, 2, 0, 1, 0, 1, 1, 1, 0, 2, 1,\n",
              "       0, 1, 1, 1, 1, 1, 1, 1, 1, 2, 1, 1, 1, 1, 0, 1, 1, 1, 1, 2, 1, 1,\n",
              "       1, 0, 1, 1, 1, 1, 1, 1, 0, 0, 1, 1, 1, 1, 1, 1, 2, 0, 1, 1, 1, 1,\n",
              "       1, 1, 1, 1, 1, 1, 1, 1, 1, 1, 0, 1, 1, 1, 1, 0, 1, 0, 1, 1, 1, 0,\n",
              "       1, 1, 1, 1, 1, 0, 1, 0, 1, 1, 1, 1, 0, 1, 1, 1, 1, 1, 0, 0, 2, 0,\n",
              "       2, 1, 0, 1, 1, 1])"
            ]
          },
          "metadata": {},
          "execution_count": 43
        }
      ]
    },
    {
      "cell_type": "markdown",
      "source": [
        "*se entrena la máquina*"
      ],
      "metadata": {
        "id": "vBCQ5cARIBXd"
      }
    },
    {
      "cell_type": "code",
      "source": [
        "regression = LinearRegression()\n",
        "regression.fit(X_train, y_train)\n"
      ],
      "metadata": {
        "colab": {
          "base_uri": "https://localhost:8080/",
          "height": 75
        },
        "id": "nQkN_2nHID-Y",
        "outputId": "41f98acf-ff4f-4480-a81e-e6058ca13dff"
      },
      "execution_count": 44,
      "outputs": [
        {
          "output_type": "execute_result",
          "data": {
            "text/plain": [
              "LinearRegression()"
            ],
            "text/html": [
              "<style>#sk-container-id-2 {color: black;background-color: white;}#sk-container-id-2 pre{padding: 0;}#sk-container-id-2 div.sk-toggleable {background-color: white;}#sk-container-id-2 label.sk-toggleable__label {cursor: pointer;display: block;width: 100%;margin-bottom: 0;padding: 0.3em;box-sizing: border-box;text-align: center;}#sk-container-id-2 label.sk-toggleable__label-arrow:before {content: \"▸\";float: left;margin-right: 0.25em;color: #696969;}#sk-container-id-2 label.sk-toggleable__label-arrow:hover:before {color: black;}#sk-container-id-2 div.sk-estimator:hover label.sk-toggleable__label-arrow:before {color: black;}#sk-container-id-2 div.sk-toggleable__content {max-height: 0;max-width: 0;overflow: hidden;text-align: left;background-color: #f0f8ff;}#sk-container-id-2 div.sk-toggleable__content pre {margin: 0.2em;color: black;border-radius: 0.25em;background-color: #f0f8ff;}#sk-container-id-2 input.sk-toggleable__control:checked~div.sk-toggleable__content {max-height: 200px;max-width: 100%;overflow: auto;}#sk-container-id-2 input.sk-toggleable__control:checked~label.sk-toggleable__label-arrow:before {content: \"▾\";}#sk-container-id-2 div.sk-estimator input.sk-toggleable__control:checked~label.sk-toggleable__label {background-color: #d4ebff;}#sk-container-id-2 div.sk-label input.sk-toggleable__control:checked~label.sk-toggleable__label {background-color: #d4ebff;}#sk-container-id-2 input.sk-hidden--visually {border: 0;clip: rect(1px 1px 1px 1px);clip: rect(1px, 1px, 1px, 1px);height: 1px;margin: -1px;overflow: hidden;padding: 0;position: absolute;width: 1px;}#sk-container-id-2 div.sk-estimator {font-family: monospace;background-color: #f0f8ff;border: 1px dotted black;border-radius: 0.25em;box-sizing: border-box;margin-bottom: 0.5em;}#sk-container-id-2 div.sk-estimator:hover {background-color: #d4ebff;}#sk-container-id-2 div.sk-parallel-item::after {content: \"\";width: 100%;border-bottom: 1px solid gray;flex-grow: 1;}#sk-container-id-2 div.sk-label:hover label.sk-toggleable__label {background-color: #d4ebff;}#sk-container-id-2 div.sk-serial::before {content: \"\";position: absolute;border-left: 1px solid gray;box-sizing: border-box;top: 0;bottom: 0;left: 50%;z-index: 0;}#sk-container-id-2 div.sk-serial {display: flex;flex-direction: column;align-items: center;background-color: white;padding-right: 0.2em;padding-left: 0.2em;position: relative;}#sk-container-id-2 div.sk-item {position: relative;z-index: 1;}#sk-container-id-2 div.sk-parallel {display: flex;align-items: stretch;justify-content: center;background-color: white;position: relative;}#sk-container-id-2 div.sk-item::before, #sk-container-id-2 div.sk-parallel-item::before {content: \"\";position: absolute;border-left: 1px solid gray;box-sizing: border-box;top: 0;bottom: 0;left: 50%;z-index: -1;}#sk-container-id-2 div.sk-parallel-item {display: flex;flex-direction: column;z-index: 1;position: relative;background-color: white;}#sk-container-id-2 div.sk-parallel-item:first-child::after {align-self: flex-end;width: 50%;}#sk-container-id-2 div.sk-parallel-item:last-child::after {align-self: flex-start;width: 50%;}#sk-container-id-2 div.sk-parallel-item:only-child::after {width: 0;}#sk-container-id-2 div.sk-dashed-wrapped {border: 1px dashed gray;margin: 0 0.4em 0.5em 0.4em;box-sizing: border-box;padding-bottom: 0.4em;background-color: white;}#sk-container-id-2 div.sk-label label {font-family: monospace;font-weight: bold;display: inline-block;line-height: 1.2em;}#sk-container-id-2 div.sk-label-container {text-align: center;}#sk-container-id-2 div.sk-container {/* jupyter's `normalize.less` sets `[hidden] { display: none; }` but bootstrap.min.css set `[hidden] { display: none !important; }` so we also need the `!important` here to be able to override the default hidden behavior on the sphinx rendered scikit-learn.org. See: https://github.com/scikit-learn/scikit-learn/issues/21755 */display: inline-block !important;position: relative;}#sk-container-id-2 div.sk-text-repr-fallback {display: none;}</style><div id=\"sk-container-id-2\" class=\"sk-top-container\"><div class=\"sk-text-repr-fallback\"><pre>LinearRegression()</pre><b>In a Jupyter environment, please rerun this cell to show the HTML representation or trust the notebook. <br />On GitHub, the HTML representation is unable to render, please try loading this page with nbviewer.org.</b></div><div class=\"sk-container\" hidden><div class=\"sk-item\"><div class=\"sk-estimator sk-toggleable\"><input class=\"sk-toggleable__control sk-hidden--visually\" id=\"sk-estimator-id-2\" type=\"checkbox\" checked><label for=\"sk-estimator-id-2\" class=\"sk-toggleable__label sk-toggleable__label-arrow\">LinearRegression</label><div class=\"sk-toggleable__content\"><pre>LinearRegression()</pre></div></div></div></div></div>"
            ]
          },
          "metadata": {},
          "execution_count": 44
        }
      ]
    },
    {
      "cell_type": "markdown",
      "source": [
        "*probamos si funciona*"
      ],
      "metadata": {
        "id": "rYwlEQvCJOF5"
      }
    },
    {
      "cell_type": "code",
      "source": [
        "y_pred = regression.predict(X_test)\n",
        "y_pred\n"
      ],
      "metadata": {
        "colab": {
          "base_uri": "https://localhost:8080/"
        },
        "id": "UCgToQsAJRAD",
        "outputId": "d58e4e05-c80a-4b5f-81e4-d4532a556025"
      },
      "execution_count": 45,
      "outputs": [
        {
          "output_type": "execute_result",
          "data": {
            "text/plain": [
              "array([ 1.01644857,  0.36544261,  1.08467657,  0.62298082, -0.52913152,\n",
              "        1.2356716 ,  1.24840276,  1.58832042,  0.31402128,  0.51290952,\n",
              "        1.39951734,  0.01991902,  0.93089784,  0.98588173,  0.67827422,\n",
              "        1.33128443,  0.41815939,  1.00911849,  0.9981644 ,  0.69904694,\n",
              "        0.75884994,  0.2959018 ,  0.57229733,  1.21911911,  1.55204981,\n",
              "        0.45942893,  1.63988293,  1.05554821,  0.35964378,  0.9003211 ,\n",
              "        0.93351939,  0.80200734,  1.03789966,  0.82684507,  0.78742143,\n",
              "        0.40616781,  0.66628643,  0.00168987,  0.92166824, -0.37303545,\n",
              "        0.85183722,  0.78632048,  1.01174647,  0.74177806,  0.8964141 ,\n",
              "        0.519718  ,  0.56760847,  1.04903681,  1.07385953,  0.62018514,\n",
              "        1.38705681,  0.32282757,  0.69332968,  0.72249789,  0.95667176,\n",
              "        1.11422056,  0.9170691 ,  0.36137992,  1.10758918,  0.58276598,\n",
              "        1.11083401,  1.08127256,  1.16784521,  1.45955908,  0.83087399,\n",
              "        1.23018617,  1.0072131 ,  1.48450002,  0.04669883,  1.08996567,\n",
              "        1.01105726,  0.66385984,  0.91381557,  0.37568978,  0.71730647,\n",
              "        0.31092507,  0.80978304,  1.10362582,  1.05259124,  0.65503342,\n",
              "        1.16350866,  1.24250232,  1.34758348,  0.13284517,  0.97200016,\n",
              "        0.69120016,  0.613669  ,  0.95764301,  1.24090607,  1.28556349,\n",
              "        1.47651048,  0.61842918,  1.27105902,  0.6248532 , -0.0605077 ,\n",
              "        1.51599699,  0.80666344,  0.65876317,  0.51717859,  0.62635988,\n",
              "        1.09367872,  0.71011417,  0.25810803,  1.04074235,  0.81541738,\n",
              "        1.10019282,  0.77588598,  1.26046366,  1.08352299,  0.16576416,\n",
              "        1.16860148,  0.83934188,  0.8041373 ,  1.4684119 ,  1.19489963,\n",
              "        0.80652389,  1.45998872,  1.13052941,  0.56553003,  0.61830344,\n",
              "        1.33188786,  0.45957237,  0.56659351,  0.73570022,  0.137553  ,\n",
              "        0.91412101,  1.03223014,  1.36734907,  1.03498125,  1.24172965,\n",
              "        0.20601879,  0.92771789, -0.16711443,  1.0484918 ,  0.87551314,\n",
              "        0.43545283,  0.3539045 ,  1.10424942,  0.74698811,  1.50825178,\n",
              "        1.30223187,  0.6580238 ,  1.44475997,  1.13030824,  0.59585737,\n",
              "        0.19895426,  1.20199284,  1.04796069,  1.63752336,  0.02500914,\n",
              "        0.59968475,  1.16889922,  1.09448901,  0.58567869,  1.19790469,\n",
              "        0.93674996,  0.26683311,  0.3321206 ,  0.74205553,  0.56619511,\n",
              "        1.14283344,  0.24883358, -0.28927071,  1.45566543,  0.33367319,\n",
              "        0.97103284,  1.02992105,  1.09169016,  0.38772388,  0.79985448,\n",
              "        1.04119309,  0.93759347,  0.19568592,  1.15604083,  0.79566176,\n",
              "        0.77937971,  1.59048667,  0.93841024,  1.17408961,  0.92096652,\n",
              "        0.80255143,  0.31334921,  1.21130572,  1.16713219,  0.46364473,\n",
              "        1.15603843,  0.04160762,  0.66864397,  0.49766655,  1.40485895,\n",
              "        0.90429886,  0.87378576,  0.38565243,  0.50498559,  0.43979983,\n",
              "        1.49486776,  0.61439138,  1.5063199 ,  0.80242264,  1.25493595,\n",
              "        0.59507531,  1.09062499,  0.93406926,  0.46976223,  0.93892541,\n",
              "        1.20401424,  0.90946154,  0.99315915,  1.27430631,  1.02823002,\n",
              "        1.4585839 ,  0.68548276,  1.2396803 ,  0.60807534,  0.95531774,\n",
              "       -0.14079981,  1.0287958 ,  0.99242219,  0.52999892,  1.53020729,\n",
              "        0.9159883 ,  1.48437633,  1.03558479,  0.90986015,  1.22583452,\n",
              "        0.64697414,  1.25290661,  0.85213835,  1.08702732,  1.15897006,\n",
              "        0.96939041,  1.22188662,  0.26241248,  0.99606565,  1.3387789 ,\n",
              "        0.96705695,  0.71061619,  0.21113105,  0.7137394 ,  0.25638214,\n",
              "        0.74820112,  0.8377833 ,  1.19971346,  0.77680767,  0.63524906,\n",
              "        1.47923403,  0.86083177,  0.65888279,  1.16281334,  0.77986581,\n",
              "        1.36574851,  0.96162983,  1.14735508,  0.91451365,  0.37285913,\n",
              "        0.79856923,  1.09034505,  1.19276116,  0.2527467 ,  1.16104074,\n",
              "        0.81729927,  0.87275147,  1.11294241,  0.69224974,  0.96560347,\n",
              "        1.22450817,  1.59792647,  1.11734151,  0.56521911,  1.08700675,\n",
              "        1.03258298,  0.71186221,  0.80538836,  1.24016961,  0.56407536,\n",
              "       -0.61097958,  0.9534247 , -0.19639577,  1.25385346,  0.63605811,\n",
              "        0.7343407 ,  1.10741949,  1.51691915,  0.59175426,  1.17044262,\n",
              "        0.66159266,  0.88229421,  0.83624506,  0.72805965,  1.04866469,\n",
              "        1.43437753,  0.77993279,  1.12573743,  1.25620985,  0.82067377,\n",
              "        0.88384047,  0.76807703,  0.0639035 ,  1.2409484 ,  1.09455564,\n",
              "        0.76685564,  1.15571249,  0.61191218,  0.56066185,  0.35324505,\n",
              "        0.79744792,  1.38707908,  0.32631057,  1.50455386,  0.65975637,\n",
              "        1.30541719,  0.95405743,  1.14906021,  0.36235228,  1.36492536,\n",
              "        1.14199935,  1.48768062,  1.05169081,  0.4708684 ,  0.4782892 ,\n",
              "        1.59140624,  1.09275914,  0.32938932,  1.03002698,  0.50147291,\n",
              "        1.28885429,  1.41638729,  0.78258975,  0.40479902,  1.54100209,\n",
              "        0.60862268, -0.21522063,  1.08570279])"
            ]
          },
          "metadata": {},
          "execution_count": 45
        }
      ]
    },
    {
      "cell_type": "markdown",
      "source": [
        "*se redondea el resultado ya que sino siempre dará un resultado decimal*"
      ],
      "metadata": {
        "id": "cQ6cH-OAKtYb"
      }
    },
    {
      "cell_type": "code",
      "source": [
        "y_pred = y_pred.round(decimals=0, out=None)\n",
        "y_pred"
      ],
      "metadata": {
        "colab": {
          "base_uri": "https://localhost:8080/"
        },
        "id": "ywYgLNV6KVPu",
        "outputId": "eb72f6b5-b25c-46f6-f873-51db0836b365"
      },
      "execution_count": 46,
      "outputs": [
        {
          "output_type": "execute_result",
          "data": {
            "text/plain": [
              "array([ 1.,  0.,  1.,  1., -1.,  1.,  1.,  2.,  0.,  1.,  1.,  0.,  1.,\n",
              "        1.,  1.,  1.,  0.,  1.,  1.,  1.,  1.,  0.,  1.,  1.,  2.,  0.,\n",
              "        2.,  1.,  0.,  1.,  1.,  1.,  1.,  1.,  1.,  0.,  1.,  0.,  1.,\n",
              "       -0.,  1.,  1.,  1.,  1.,  1.,  1.,  1.,  1.,  1.,  1.,  1.,  0.,\n",
              "        1.,  1.,  1.,  1.,  1.,  0.,  1.,  1.,  1.,  1.,  1.,  1.,  1.,\n",
              "        1.,  1.,  1.,  0.,  1.,  1.,  1.,  1.,  0.,  1.,  0.,  1.,  1.,\n",
              "        1.,  1.,  1.,  1.,  1.,  0.,  1.,  1.,  1.,  1.,  1.,  1.,  1.,\n",
              "        1.,  1.,  1., -0.,  2.,  1.,  1.,  1.,  1.,  1.,  1.,  0.,  1.,\n",
              "        1.,  1.,  1.,  1.,  1.,  0.,  1.,  1.,  1.,  1.,  1.,  1.,  1.,\n",
              "        1.,  1.,  1.,  1.,  0.,  1.,  1.,  0.,  1.,  1.,  1.,  1.,  1.,\n",
              "        0.,  1., -0.,  1.,  1.,  0.,  0.,  1.,  1.,  2.,  1.,  1.,  1.,\n",
              "        1.,  1.,  0.,  1.,  1.,  2.,  0.,  1.,  1.,  1.,  1.,  1.,  1.,\n",
              "        0.,  0.,  1.,  1.,  1.,  0., -0.,  1.,  0.,  1.,  1.,  1.,  0.,\n",
              "        1.,  1.,  1.,  0.,  1.,  1.,  1.,  2.,  1.,  1.,  1.,  1.,  0.,\n",
              "        1.,  1.,  0.,  1.,  0.,  1.,  0.,  1.,  1.,  1.,  0.,  1.,  0.,\n",
              "        1.,  1.,  2.,  1.,  1.,  1.,  1.,  1.,  0.,  1.,  1.,  1.,  1.,\n",
              "        1.,  1.,  1.,  1.,  1.,  1.,  1., -0.,  1.,  1.,  1.,  2.,  1.,\n",
              "        1.,  1.,  1.,  1.,  1.,  1.,  1.,  1.,  1.,  1.,  1.,  0.,  1.,\n",
              "        1.,  1.,  1.,  0.,  1.,  0.,  1.,  1.,  1.,  1.,  1.,  1.,  1.,\n",
              "        1.,  1.,  1.,  1.,  1.,  1.,  1.,  0.,  1.,  1.,  1.,  0.,  1.,\n",
              "        1.,  1.,  1.,  1.,  1.,  1.,  2.,  1.,  1.,  1.,  1.,  1.,  1.,\n",
              "        1.,  1., -1.,  1., -0.,  1.,  1.,  1.,  1.,  2.,  1.,  1.,  1.,\n",
              "        1.,  1.,  1.,  1.,  1.,  1.,  1.,  1.,  1.,  1.,  1.,  0.,  1.,\n",
              "        1.,  1.,  1.,  1.,  1.,  0.,  1.,  1.,  0.,  2.,  1.,  1.,  1.,\n",
              "        1.,  0.,  1.,  1.,  1.,  1.,  0.,  0.,  2.,  1.,  0.,  1.,  1.,\n",
              "        1.,  1.,  1.,  0.,  2.,  1., -0.,  1.])"
            ]
          },
          "metadata": {},
          "execution_count": 46
        }
      ]
    },
    {
      "cell_type": "markdown",
      "source": [
        "**ahora comparemos los datos con lo que dió**"
      ],
      "metadata": {
        "id": "2mnbVfvpJq6I"
      }
    },
    {
      "cell_type": "code",
      "source": [
        "df_aux = pd.DataFrame({'Actual': y_test.flatten(), 'Predicción': y_pred.flatten()})\n",
        "df_aux"
      ],
      "metadata": {
        "id": "lq1_RwqUJwCw"
      },
      "execution_count": null,
      "outputs": []
    },
    {
      "cell_type": "markdown",
      "source": [
        "**graficamos la diferencia**"
      ],
      "metadata": {
        "id": "MzDMjou4LWDJ"
      }
    },
    {
      "cell_type": "code",
      "source": [
        "plt.scatter(X_train[:,-1], y_train, color = \"#FF6347\")\n",
        "plt.scatter(X_train[:,-1], regression.predict(X_train).round(decimals=0, out=None), color = \"#20B2AA\")\n",
        "plt.title(\"Velocidad media dependiendo de su tiempo\")\n",
        "plt.xlabel(\"Tiempo\")\n",
        "plt.ylabel(\"Velocidad\")\n",
        "plt.text(-6,2,\"0- Lento \\n1- Regular \\n2- Veloz\")\n",
        "plt.text(-6,-1.2,\"Velocidad real\", color = \"#FF6347\")\n",
        "plt.text(-6,-1.4,\"Velocidad calculada\", color = \"#20B2AA\")\n",
        "plt.show()\n"
      ],
      "metadata": {
        "colab": {
          "base_uri": "https://localhost:8080/",
          "height": 476
        },
        "id": "msoKJS8BPYU4",
        "outputId": "087ca493-fb99-43db-d99b-47d7681ccc25"
      },
      "execution_count": 61,
      "outputs": [
        {
          "output_type": "display_data",
          "data": {
            "text/plain": [
              "<Figure size 640x480 with 1 Axes>"
            ],
            "image/png": "[encoded data removed]"
          },
          "metadata": {}
        }
      ]
    },
    {
      "cell_type": "markdown",
      "source": [
        "Intercepción del modelo:"
      ],
      "metadata": {
        "id": "G8E0EuBFJeVP"
      }
    },
    {
      "cell_type": "code",
      "source": [
        "regression.intercept_"
      ],
      "metadata": {
        "colab": {
          "base_uri": "https://localhost:8080/"
        },
        "id": "QMMKBtNfJgXG",
        "outputId": "953d7683-a7f8-4131-ab35-e9264a096407"
      },
      "execution_count": 62,
      "outputs": [
        {
          "output_type": "execute_result",
          "data": {
            "text/plain": [
              "2.4714915862620845"
            ]
          },
          "metadata": {},
          "execution_count": 62
        }
      ]
    },
    {
      "cell_type": "markdown",
      "source": [
        "Pendiente del modelo:"
      ],
      "metadata": {
        "id": "EGwEE9eSJk1T"
      }
    },
    {
      "cell_type": "code",
      "source": [
        "regression.coef_"
      ],
      "metadata": {
        "colab": {
          "base_uri": "https://localhost:8080/"
        },
        "id": "krDLOR9XJnb_",
        "outputId": "37e32b73-eb4b-4b3a-9a33-8528379f1e6e"
      },
      "execution_count": 63,
      "outputs": [
        {
          "output_type": "execute_result",
          "data": {
            "text/plain": [
              "array([-1.76147718e-05, -1.72582095e-03,  2.18228368e-03,  2.78189078e-04,\n",
              "       -5.61403679e-03])"
            ]
          },
          "metadata": {},
          "execution_count": 63
        }
      ]
    },
    {
      "cell_type": "markdown",
      "source": [
        "Error cuantico medio:"
      ],
      "metadata": {
        "id": "5jYbyhBdNpuJ"
      }
    },
    {
      "cell_type": "code",
      "source": [
        "metrics.mean_squared_error(y_test, y_pred)"
      ],
      "metadata": {
        "colab": {
          "base_uri": "https://localhost:8080/"
        },
        "id": "942nZZkpNsNO",
        "outputId": "c90408b6-0c75-477f-ea38-112f44b66686"
      },
      "execution_count": 64,
      "outputs": [
        {
          "output_type": "execute_result",
          "data": {
            "text/plain": [
              "0.06306306306306306"
            ]
          },
          "metadata": {},
          "execution_count": 64
        }
      ]
    },
    {
      "cell_type": "markdown",
      "source": [
        "Raiz cuadrada del error cuantico medio:"
      ],
      "metadata": {
        "id": "jRwJM2BhNwtO"
      }
    },
    {
      "cell_type": "code",
      "source": [
        "np.sqrt(metrics.mean_squared_error(y_test, y_pred))"
      ],
      "metadata": {
        "colab": {
          "base_uri": "https://localhost:8080/"
        },
        "id": "lMDtY2TMNzZQ",
        "outputId": "81286e0d-6f14-44c7-efd4-676d73f13c0c"
      },
      "execution_count": 65,
      "outputs": [
        {
          "output_type": "execute_result",
          "data": {
            "text/plain": [
              "0.2511236011669613"
            ]
          },
          "metadata": {},
          "execution_count": 65
        }
      ]
    },
    {
      "cell_type": "markdown",
      "source": [
        "Error medio absoluto:"
      ],
      "metadata": {
        "id": "8iEPco_-N6YT"
      }
    },
    {
      "cell_type": "code",
      "source": [
        "metrics.mean_absolute_error(y_test, y_pred)"
      ],
      "metadata": {
        "colab": {
          "base_uri": "https://localhost:8080/"
        },
        "id": "iO6m9H3VN8ae",
        "outputId": "6157454b-a476-4364-b380-17ef86480acf"
      },
      "execution_count": 66,
      "outputs": [
        {
          "output_type": "execute_result",
          "data": {
            "text/plain": [
              "0.06306306306306306"
            ]
          },
          "metadata": {},
          "execution_count": 66
        }
      ]
    },
    {
      "cell_type": "markdown",
      "source": [
        "Error absoluto Medio:"
      ],
      "metadata": {
        "id": "HF22swoTOElN"
      }
    },
    {
      "cell_type": "code",
      "source": [
        "metrics.median_absolute_error(y_test, y_pred)"
      ],
      "metadata": {
        "colab": {
          "base_uri": "https://localhost:8080/"
        },
        "id": "sX9d9_irOGdt",
        "outputId": "eb31ee7e-9a76-424e-dd20-9b4c3bb867b9"
      },
      "execution_count": 67,
      "outputs": [
        {
          "output_type": "execute_result",
          "data": {
            "text/plain": [
              "0.0"
            ]
          },
          "metadata": {},
          "execution_count": 67
        }
      ]
    },
    {
      "cell_type": "markdown",
      "source": [
        "R^2 del modelo:"
      ],
      "metadata": {
        "id": "h6zjAs4MONlp"
      }
    },
    {
      "cell_type": "code",
      "source": [
        "metrics.r2_score(y_test, y_pred)"
      ],
      "metadata": {
        "colab": {
          "base_uri": "https://localhost:8080/"
        },
        "id": "qYXt3PkKOPp_",
        "outputId": "b4e3ee2a-8f06-45f3-b826-dbfae7cc8bd2"
      },
      "execution_count": 68,
      "outputs": [
        {
          "output_type": "execute_result",
          "data": {
            "text/plain": [
              "0.7604480679638257"
            ]
          },
          "metadata": {},
          "execution_count": 68
        }
      ]
    },
    {
      "cell_type": "markdown",
      "source": [
        "# **Conclución**"
      ],
      "metadata": {
        "id": "6n72R-h4UUFA"
      }
    },
    {
      "cell_type": "markdown",
      "source": [
        "Una persona es considerada veloz si su tiempo es menor a los 200 minutos y considerada lenta si pasó los 300 minutos"
      ],
      "metadata": {
        "id": "p4YoX48nVSDF"
      }
    }
  ]
}